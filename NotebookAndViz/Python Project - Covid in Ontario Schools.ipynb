{
 "cells": [
  {
   "cell_type": "markdown",
   "id": "6e03e98a",
   "metadata": {},
   "source": [
    "# Covid Cases in Ontario Public Schools"
   ]
  },
  {
   "cell_type": "markdown",
   "id": "65b3a837",
   "metadata": {},
   "source": [
    "### QUESTION:\n",
    "### Does High Enrolment correlate with Higher Number of Covid Cases in Ontario Schools?"
   ]
  },
  {
   "cell_type": "markdown",
   "id": "2f741290",
   "metadata": {},
   "source": [
    "### HYPOTHESIS\n",
    "### High Enrolment correlates with Higher Number of Covid Cases in Ontario Schools"
   ]
  },
  {
   "cell_type": "markdown",
   "id": "7ea88d66",
   "metadata": {},
   "source": [
    "Dataset 1 - Ontario Schools Covid Data\n",
    "\n",
    "The dataset is sourced from the Ontario Data website (https://data.ontario.ca/).  \n",
    "In particular, I chose to study the Covid data for the 2020-2021 school year\n",
    "\n",
    "\n",
    "Dataset 2 - Ontario Schools Enrolment \n",
    "\n",
    "I am also supplementing the first dataset with Ontario Public Schools Enrolment data for the 2019-2020 school year from the Open Canada Data website  (https://open.canada.ca/).  This school year was the latest enrolment data available online.  I think it’s safe to assume that the enrolment numbers are fairly consistent to 2020-2021 which is the year that the Covid data covers."
   ]
  },
  {
   "cell_type": "markdown",
   "id": "f044b581",
   "metadata": {},
   "source": [
    "### Overview on Dataset 1 - Ontario Schools Covid Data"
   ]
  },
  {
   "cell_type": "code",
   "execution_count": 22,
   "id": "58cb4e4c",
   "metadata": {},
   "outputs": [],
   "source": [
    "# calling on the pandas library\n",
    "import pandas as pd"
   ]
  },
  {
   "cell_type": "code",
   "execution_count": 30,
   "id": "deee44bd",
   "metadata": {},
   "outputs": [],
   "source": [
    "# asking pandas to ingest the Ontario Schools Covid Data csv file\n",
    "covid_data = pd.read_csv(\"/Users/wazabifilms/Documents/Juno Data Analytics Course/Python/Python Project/Schools Covid 19 Data/schoolsactivecovid.csv\")"
   ]
  },
  {
   "cell_type": "code",
   "execution_count": 31,
   "id": "7cc073bf",
   "metadata": {},
   "outputs": [
    {
     "data": {
      "text/html": [
       "<div>\n",
       "<style scoped>\n",
       "    .dataframe tbody tr th:only-of-type {\n",
       "        vertical-align: middle;\n",
       "    }\n",
       "\n",
       "    .dataframe tbody tr th {\n",
       "        vertical-align: top;\n",
       "    }\n",
       "\n",
       "    .dataframe thead th {\n",
       "        text-align: right;\n",
       "    }\n",
       "</style>\n",
       "<table border=\"1\" class=\"dataframe\">\n",
       "  <thead>\n",
       "    <tr style=\"text-align: right;\">\n",
       "      <th></th>\n",
       "      <th>collected_date</th>\n",
       "      <th>reported_date</th>\n",
       "      <th>school_board</th>\n",
       "      <th>school_id</th>\n",
       "      <th>school</th>\n",
       "      <th>municipality</th>\n",
       "      <th>confirmed_student_cases</th>\n",
       "      <th>confirmed_staff_cases</th>\n",
       "      <th>confirmed_unspecified_cases</th>\n",
       "      <th>total_confirmed_cases</th>\n",
       "    </tr>\n",
       "  </thead>\n",
       "  <tbody>\n",
       "    <tr>\n",
       "      <th>0</th>\n",
       "      <td>2020-09-10</td>\n",
       "      <td>2020-09-11</td>\n",
       "      <td>Conseil des écoles catholiques du Centre-Est (...</td>\n",
       "      <td>753203</td>\n",
       "      <td>École élémentaire catholique Roger-Saint-Denis</td>\n",
       "      <td>Ottawa</td>\n",
       "      <td>0</td>\n",
       "      <td>1</td>\n",
       "      <td>NaN</td>\n",
       "      <td>1</td>\n",
       "    </tr>\n",
       "    <tr>\n",
       "      <th>1</th>\n",
       "      <td>2020-09-10</td>\n",
       "      <td>2020-09-11</td>\n",
       "      <td>Conseil des écoles catholiques du Centre-Est (...</td>\n",
       "      <td>793027</td>\n",
       "      <td>École élémentaire catholique Saint-François-d’...</td>\n",
       "      <td>Ottawa</td>\n",
       "      <td>1</td>\n",
       "      <td>0</td>\n",
       "      <td>NaN</td>\n",
       "      <td>1</td>\n",
       "    </tr>\n",
       "    <tr>\n",
       "      <th>2</th>\n",
       "      <td>2020-09-10</td>\n",
       "      <td>2020-09-11</td>\n",
       "      <td>Conseil des écoles catholiques du Centre-Est (...</td>\n",
       "      <td>860573</td>\n",
       "      <td>École élémentaire catholique Sainte-Anne</td>\n",
       "      <td>Ottawa</td>\n",
       "      <td>1</td>\n",
       "      <td>0</td>\n",
       "      <td>NaN</td>\n",
       "      <td>1</td>\n",
       "    </tr>\n",
       "    <tr>\n",
       "      <th>3</th>\n",
       "      <td>2020-09-10</td>\n",
       "      <td>2020-09-11</td>\n",
       "      <td>Conseil des écoles catholiques du Centre-Est (...</td>\n",
       "      <td>734314</td>\n",
       "      <td>École élémentaire catholique Laurier-Carrière</td>\n",
       "      <td>Ottawa</td>\n",
       "      <td>1</td>\n",
       "      <td>0</td>\n",
       "      <td>NaN</td>\n",
       "      <td>1</td>\n",
       "    </tr>\n",
       "    <tr>\n",
       "      <th>4</th>\n",
       "      <td>2020-09-10</td>\n",
       "      <td>2020-09-11</td>\n",
       "      <td>Conseil des écoles catholiques du Centre-Est (...</td>\n",
       "      <td>750107</td>\n",
       "      <td>École intermédiaire catholique Franco-Ouest</td>\n",
       "      <td>Ottawa</td>\n",
       "      <td>1</td>\n",
       "      <td>0</td>\n",
       "      <td>NaN</td>\n",
       "      <td>1</td>\n",
       "    </tr>\n",
       "    <tr>\n",
       "      <th>5</th>\n",
       "      <td>2020-09-10</td>\n",
       "      <td>2020-09-11</td>\n",
       "      <td>Conseil des écoles publiques de l’Est de l’Ont...</td>\n",
       "      <td>907430</td>\n",
       "      <td>École secondaire publique De La Salle</td>\n",
       "      <td>Ottawa</td>\n",
       "      <td>0</td>\n",
       "      <td>1</td>\n",
       "      <td>NaN</td>\n",
       "      <td>1</td>\n",
       "    </tr>\n",
       "    <tr>\n",
       "      <th>6</th>\n",
       "      <td>2020-09-10</td>\n",
       "      <td>2020-09-11</td>\n",
       "      <td>Conseil Scolaire Viamonde</td>\n",
       "      <td>310415</td>\n",
       "      <td>École Ronald-Marion</td>\n",
       "      <td>Pickering</td>\n",
       "      <td>0</td>\n",
       "      <td>1</td>\n",
       "      <td>NaN</td>\n",
       "      <td>1</td>\n",
       "    </tr>\n",
       "    <tr>\n",
       "      <th>7</th>\n",
       "      <td>2020-09-10</td>\n",
       "      <td>2020-09-11</td>\n",
       "      <td>Halton Catholic District School Board</td>\n",
       "      <td>821241</td>\n",
       "      <td>St. Marguerite d’Youville Catholic Elementary ...</td>\n",
       "      <td>Oakville</td>\n",
       "      <td>0</td>\n",
       "      <td>1</td>\n",
       "      <td>NaN</td>\n",
       "      <td>1</td>\n",
       "    </tr>\n",
       "    <tr>\n",
       "      <th>8</th>\n",
       "      <td>2020-09-10</td>\n",
       "      <td>2020-09-11</td>\n",
       "      <td>Halton District School Board</td>\n",
       "      <td>076727</td>\n",
       "      <td>Oodeenawi Public School</td>\n",
       "      <td>Oakville</td>\n",
       "      <td>0</td>\n",
       "      <td>1</td>\n",
       "      <td>NaN</td>\n",
       "      <td>1</td>\n",
       "    </tr>\n",
       "    <tr>\n",
       "      <th>9</th>\n",
       "      <td>2020-09-10</td>\n",
       "      <td>2020-09-11</td>\n",
       "      <td>Peel District School Board</td>\n",
       "      <td>0</td>\n",
       "      <td>North Field Office</td>\n",
       "      <td>Brampton</td>\n",
       "      <td>0</td>\n",
       "      <td>1</td>\n",
       "      <td>NaN</td>\n",
       "      <td>1</td>\n",
       "    </tr>\n",
       "  </tbody>\n",
       "</table>\n",
       "</div>"
      ],
      "text/plain": [
       "  collected_date reported_date  \\\n",
       "0     2020-09-10    2020-09-11   \n",
       "1     2020-09-10    2020-09-11   \n",
       "2     2020-09-10    2020-09-11   \n",
       "3     2020-09-10    2020-09-11   \n",
       "4     2020-09-10    2020-09-11   \n",
       "5     2020-09-10    2020-09-11   \n",
       "6     2020-09-10    2020-09-11   \n",
       "7     2020-09-10    2020-09-11   \n",
       "8     2020-09-10    2020-09-11   \n",
       "9     2020-09-10    2020-09-11   \n",
       "\n",
       "                                        school_board school_id  \\\n",
       "0  Conseil des écoles catholiques du Centre-Est (...    753203   \n",
       "1  Conseil des écoles catholiques du Centre-Est (...    793027   \n",
       "2  Conseil des écoles catholiques du Centre-Est (...    860573   \n",
       "3  Conseil des écoles catholiques du Centre-Est (...    734314   \n",
       "4  Conseil des écoles catholiques du Centre-Est (...    750107   \n",
       "5  Conseil des écoles publiques de l’Est de l’Ont...    907430   \n",
       "6                          Conseil Scolaire Viamonde    310415   \n",
       "7              Halton Catholic District School Board    821241   \n",
       "8                       Halton District School Board    076727   \n",
       "9                         Peel District School Board         0   \n",
       "\n",
       "                                              school municipality  \\\n",
       "0     École élémentaire catholique Roger-Saint-Denis       Ottawa   \n",
       "1  École élémentaire catholique Saint-François-d’...       Ottawa   \n",
       "2           École élémentaire catholique Sainte-Anne       Ottawa   \n",
       "3      École élémentaire catholique Laurier-Carrière       Ottawa   \n",
       "4        École intermédiaire catholique Franco-Ouest       Ottawa   \n",
       "5              École secondaire publique De La Salle       Ottawa   \n",
       "6                                École Ronald-Marion    Pickering   \n",
       "7  St. Marguerite d’Youville Catholic Elementary ...     Oakville   \n",
       "8                            Oodeenawi Public School     Oakville   \n",
       "9                                 North Field Office     Brampton   \n",
       "\n",
       "   confirmed_student_cases  confirmed_staff_cases  \\\n",
       "0                        0                      1   \n",
       "1                        1                      0   \n",
       "2                        1                      0   \n",
       "3                        1                      0   \n",
       "4                        1                      0   \n",
       "5                        0                      1   \n",
       "6                        0                      1   \n",
       "7                        0                      1   \n",
       "8                        0                      1   \n",
       "9                        0                      1   \n",
       "\n",
       "   confirmed_unspecified_cases  total_confirmed_cases  \n",
       "0                          NaN                      1  \n",
       "1                          NaN                      1  \n",
       "2                          NaN                      1  \n",
       "3                          NaN                      1  \n",
       "4                          NaN                      1  \n",
       "5                          NaN                      1  \n",
       "6                          NaN                      1  \n",
       "7                          NaN                      1  \n",
       "8                          NaN                      1  \n",
       "9                          NaN                      1  "
      ]
     },
     "execution_count": 31,
     "metadata": {},
     "output_type": "execute_result"
    }
   ],
   "source": [
    "# displaying the first 10 rows of the csv file as a dataframe\n",
    "covid_data.head(10)"
   ]
  },
  {
   "cell_type": "code",
   "execution_count": 32,
   "id": "dcaa61a8",
   "metadata": {},
   "outputs": [
    {
     "data": {
      "text/plain": [
       "(70053, 10)"
      ]
     },
     "execution_count": 32,
     "metadata": {},
     "output_type": "execute_result"
    }
   ],
   "source": [
    "# displaying the number of rows and columns of dataframe\n",
    "covid_data.shape"
   ]
  },
  {
   "cell_type": "markdown",
   "id": "ff540e84",
   "metadata": {},
   "source": [
    "### Cleanup and Transformation on Dataset 1 - Ontario Schools Covid Data¶"
   ]
  },
  {
   "cell_type": "markdown",
   "id": "413918eb",
   "metadata": {},
   "source": [
    "There are 4 columns relating to covid case counts per school per day.  Cases are broken down by student case, staff case, unspecified case and total cases.  According to the metadata, (https://data.ontario.ca/dataset/summary-of-cases-in-schools), ‘unspecified case’ could mean student or staff - it is unspecified due to privacy considerations.\n",
    "\n",
    "Our question is if higher enrolment correlates to higher covid cases.  So we will only take into account the column “total confirmed cases” since infections are infections regardless if they are students or staff.  And also because higher staff case counts speaks to the density of the school population.\n",
    "\n",
    "Let us therefore remove the columns ‘student case,’ ‘staff case’ and ‘ unspecified case’"
   ]
  },
  {
   "cell_type": "code",
   "execution_count": 33,
   "id": "d5a16e5d",
   "metadata": {},
   "outputs": [],
   "source": [
    "# removing 3 columns from dataframe\n",
    "covid_data.drop(['confirmed_student_cases', 'confirmed_staff_cases', 'confirmed_unspecified_cases'], axis=1, inplace=True)"
   ]
  },
  {
   "cell_type": "code",
   "execution_count": 35,
   "id": "5dc4e287",
   "metadata": {},
   "outputs": [
    {
     "data": {
      "text/html": [
       "<div>\n",
       "<style scoped>\n",
       "    .dataframe tbody tr th:only-of-type {\n",
       "        vertical-align: middle;\n",
       "    }\n",
       "\n",
       "    .dataframe tbody tr th {\n",
       "        vertical-align: top;\n",
       "    }\n",
       "\n",
       "    .dataframe thead th {\n",
       "        text-align: right;\n",
       "    }\n",
       "</style>\n",
       "<table border=\"1\" class=\"dataframe\">\n",
       "  <thead>\n",
       "    <tr style=\"text-align: right;\">\n",
       "      <th></th>\n",
       "      <th>collected_date</th>\n",
       "      <th>reported_date</th>\n",
       "      <th>school_board</th>\n",
       "      <th>school_id</th>\n",
       "      <th>school</th>\n",
       "      <th>municipality</th>\n",
       "      <th>total_confirmed_cases</th>\n",
       "    </tr>\n",
       "  </thead>\n",
       "  <tbody>\n",
       "    <tr>\n",
       "      <th>0</th>\n",
       "      <td>2020-09-10</td>\n",
       "      <td>2020-09-11</td>\n",
       "      <td>Conseil des écoles catholiques du Centre-Est (...</td>\n",
       "      <td>753203</td>\n",
       "      <td>École élémentaire catholique Roger-Saint-Denis</td>\n",
       "      <td>Ottawa</td>\n",
       "      <td>1</td>\n",
       "    </tr>\n",
       "    <tr>\n",
       "      <th>1</th>\n",
       "      <td>2020-09-10</td>\n",
       "      <td>2020-09-11</td>\n",
       "      <td>Conseil des écoles catholiques du Centre-Est (...</td>\n",
       "      <td>793027</td>\n",
       "      <td>École élémentaire catholique Saint-François-d’...</td>\n",
       "      <td>Ottawa</td>\n",
       "      <td>1</td>\n",
       "    </tr>\n",
       "    <tr>\n",
       "      <th>2</th>\n",
       "      <td>2020-09-10</td>\n",
       "      <td>2020-09-11</td>\n",
       "      <td>Conseil des écoles catholiques du Centre-Est (...</td>\n",
       "      <td>860573</td>\n",
       "      <td>École élémentaire catholique Sainte-Anne</td>\n",
       "      <td>Ottawa</td>\n",
       "      <td>1</td>\n",
       "    </tr>\n",
       "    <tr>\n",
       "      <th>3</th>\n",
       "      <td>2020-09-10</td>\n",
       "      <td>2020-09-11</td>\n",
       "      <td>Conseil des écoles catholiques du Centre-Est (...</td>\n",
       "      <td>734314</td>\n",
       "      <td>École élémentaire catholique Laurier-Carrière</td>\n",
       "      <td>Ottawa</td>\n",
       "      <td>1</td>\n",
       "    </tr>\n",
       "    <tr>\n",
       "      <th>4</th>\n",
       "      <td>2020-09-10</td>\n",
       "      <td>2020-09-11</td>\n",
       "      <td>Conseil des écoles catholiques du Centre-Est (...</td>\n",
       "      <td>750107</td>\n",
       "      <td>École intermédiaire catholique Franco-Ouest</td>\n",
       "      <td>Ottawa</td>\n",
       "      <td>1</td>\n",
       "    </tr>\n",
       "  </tbody>\n",
       "</table>\n",
       "</div>"
      ],
      "text/plain": [
       "  collected_date reported_date  \\\n",
       "0     2020-09-10    2020-09-11   \n",
       "1     2020-09-10    2020-09-11   \n",
       "2     2020-09-10    2020-09-11   \n",
       "3     2020-09-10    2020-09-11   \n",
       "4     2020-09-10    2020-09-11   \n",
       "\n",
       "                                        school_board school_id  \\\n",
       "0  Conseil des écoles catholiques du Centre-Est (...    753203   \n",
       "1  Conseil des écoles catholiques du Centre-Est (...    793027   \n",
       "2  Conseil des écoles catholiques du Centre-Est (...    860573   \n",
       "3  Conseil des écoles catholiques du Centre-Est (...    734314   \n",
       "4  Conseil des écoles catholiques du Centre-Est (...    750107   \n",
       "\n",
       "                                              school municipality  \\\n",
       "0     École élémentaire catholique Roger-Saint-Denis       Ottawa   \n",
       "1  École élémentaire catholique Saint-François-d’...       Ottawa   \n",
       "2           École élémentaire catholique Sainte-Anne       Ottawa   \n",
       "3      École élémentaire catholique Laurier-Carrière       Ottawa   \n",
       "4        École intermédiaire catholique Franco-Ouest       Ottawa   \n",
       "\n",
       "   total_confirmed_cases  \n",
       "0                      1  \n",
       "1                      1  \n",
       "2                      1  \n",
       "3                      1  \n",
       "4                      1  "
      ]
     },
     "execution_count": 35,
     "metadata": {},
     "output_type": "execute_result"
    }
   ],
   "source": [
    "# checking to see if those 3 columns have gone away\n",
    "covid_data.head(5)"
   ]
  },
  {
   "cell_type": "markdown",
   "id": "fcde34f4",
   "metadata": {},
   "source": [
    "As we can see from the rows - cases are reported by day.  We cannot really tell if each case per day is the same infected person.  However, we can deduce that schools are counting the same infected person on multiple days because the case counts stay consistent for each school for about 10 days straight.  We know from experience that covid infections take about 2 weeks to clear the human body.\n",
    "\n",
    "So in order to answer our question - if higher enrolment correlates to higher covid cases - let us take into account only the *MAX* total case per school in one day.  This is the highest number of case counts in one day for each school in the 2020-2021 school year.  Meaning that if a school’s total case count was 1 on one day but 5 on another day, we will only take the 5 cases into account for that school because it is the max that they reported in one day for the school year."
   ]
  },
  {
   "cell_type": "code",
   "execution_count": 38,
   "id": "d128fa7f",
   "metadata": {},
   "outputs": [],
   "source": [
    "# Grouping by 'school_id' and getting the max count of 'total_confirmed_cases' per school\n",
    "# NB:  I added 'reset index' at the end of the code to make sure it doesn't use the school_id as the index when outputting this new dataframe\n",
    "max_total_cases_by_school = covid_data.groupby('school_id')['total_confirmed_cases'].max().reset_index()"
   ]
  },
  {
   "cell_type": "code",
   "execution_count": 40,
   "id": "acb6a1db",
   "metadata": {},
   "outputs": [
    {
     "data": {
      "text/html": [
       "<div>\n",
       "<style scoped>\n",
       "    .dataframe tbody tr th:only-of-type {\n",
       "        vertical-align: middle;\n",
       "    }\n",
       "\n",
       "    .dataframe tbody tr th {\n",
       "        vertical-align: top;\n",
       "    }\n",
       "\n",
       "    .dataframe thead th {\n",
       "        text-align: right;\n",
       "    }\n",
       "</style>\n",
       "<table border=\"1\" class=\"dataframe\">\n",
       "  <thead>\n",
       "    <tr style=\"text-align: right;\">\n",
       "      <th></th>\n",
       "      <th>school_id</th>\n",
       "      <th>total_confirmed_cases</th>\n",
       "    </tr>\n",
       "  </thead>\n",
       "  <tbody>\n",
       "    <tr>\n",
       "      <th>0</th>\n",
       "      <td>0</td>\n",
       "      <td>4</td>\n",
       "    </tr>\n",
       "    <tr>\n",
       "      <th>1</th>\n",
       "      <td>000000</td>\n",
       "      <td>1</td>\n",
       "    </tr>\n",
       "    <tr>\n",
       "      <th>2</th>\n",
       "      <td>000078</td>\n",
       "      <td>5</td>\n",
       "    </tr>\n",
       "    <tr>\n",
       "      <th>3</th>\n",
       "      <td>000469</td>\n",
       "      <td>2</td>\n",
       "    </tr>\n",
       "    <tr>\n",
       "      <th>4</th>\n",
       "      <td>000566</td>\n",
       "      <td>1</td>\n",
       "    </tr>\n",
       "    <tr>\n",
       "      <th>...</th>\n",
       "      <td>...</td>\n",
       "      <td>...</td>\n",
       "    </tr>\n",
       "    <tr>\n",
       "      <th>3237</th>\n",
       "      <td>B67172</td>\n",
       "      <td>1</td>\n",
       "    </tr>\n",
       "    <tr>\n",
       "      <th>3238</th>\n",
       "      <td>B67199</td>\n",
       "      <td>2</td>\n",
       "    </tr>\n",
       "    <tr>\n",
       "      <th>3239</th>\n",
       "      <td>B67300</td>\n",
       "      <td>1</td>\n",
       "    </tr>\n",
       "    <tr>\n",
       "      <th>3240</th>\n",
       "      <td>B67318</td>\n",
       "      <td>3</td>\n",
       "    </tr>\n",
       "    <tr>\n",
       "      <th>3241</th>\n",
       "      <td>B67334</td>\n",
       "      <td>2</td>\n",
       "    </tr>\n",
       "  </tbody>\n",
       "</table>\n",
       "<p>3242 rows × 2 columns</p>\n",
       "</div>"
      ],
      "text/plain": [
       "     school_id  total_confirmed_cases\n",
       "0            0                      4\n",
       "1       000000                      1\n",
       "2       000078                      5\n",
       "3       000469                      2\n",
       "4       000566                      1\n",
       "...        ...                    ...\n",
       "3237    B67172                      1\n",
       "3238    B67199                      2\n",
       "3239    B67300                      1\n",
       "3240    B67318                      3\n",
       "3241    B67334                      2\n",
       "\n",
       "[3242 rows x 2 columns]"
      ]
     },
     "execution_count": 40,
     "metadata": {},
     "output_type": "execute_result"
    }
   ],
   "source": [
    "# checking to see what this new dataframe looks like now after this transformation\n",
    "max_total_cases_by_school"
   ]
  },
  {
   "cell_type": "markdown",
   "id": "28f3d512",
   "metadata": {},
   "source": [
    "As we can now see, there are some school ids that look different from the rest: some nulls, some 0 and some that start with a B.  These don’t seem to be schools at all.  They are board sites or similar.  We might not need to get rid of them yet since they might be discarded when we join them to the enrolment dataset since these school ids will not have any enrolment numbers.\n",
    "\n",
    "It's also important to note that we have discarded a lot of other columns in the original dataframe when we used the group by and max aggregations.  That's okay.  As much as I would like to take the reported dates and municipalities into account for this analysis, it will be too time-consuming since we only have a few days to do this project.  Afterall, Ontario has 444 municipalities. As for the dates, the max number of cases per school appears on more than one day, so it would require some intricate coding to pull those indexes.  I will attempt to do this after bootcamp.\n",
    "\n",
    "For now, we are satisfied with our transformed dataset showing the max case count in one day per school_id.  We can use the school_id column as the key to merge our enrolment table.\n",
    "\n",
    "Also - let's rename the last column since we did tranform it.  "
   ]
  },
  {
   "cell_type": "code",
   "execution_count": 51,
   "id": "8fcbca1f",
   "metadata": {},
   "outputs": [
    {
     "data": {
      "text/html": [
       "<div>\n",
       "<style scoped>\n",
       "    .dataframe tbody tr th:only-of-type {\n",
       "        vertical-align: middle;\n",
       "    }\n",
       "\n",
       "    .dataframe tbody tr th {\n",
       "        vertical-align: top;\n",
       "    }\n",
       "\n",
       "    .dataframe thead th {\n",
       "        text-align: right;\n",
       "    }\n",
       "</style>\n",
       "<table border=\"1\" class=\"dataframe\">\n",
       "  <thead>\n",
       "    <tr style=\"text-align: right;\">\n",
       "      <th></th>\n",
       "      <th>school_id</th>\n",
       "      <th>Highest_Covid_Cases_In_One_Day</th>\n",
       "    </tr>\n",
       "  </thead>\n",
       "  <tbody>\n",
       "    <tr>\n",
       "      <th>0</th>\n",
       "      <td>0</td>\n",
       "      <td>4</td>\n",
       "    </tr>\n",
       "    <tr>\n",
       "      <th>1</th>\n",
       "      <td>000000</td>\n",
       "      <td>1</td>\n",
       "    </tr>\n",
       "    <tr>\n",
       "      <th>2</th>\n",
       "      <td>000078</td>\n",
       "      <td>5</td>\n",
       "    </tr>\n",
       "    <tr>\n",
       "      <th>3</th>\n",
       "      <td>000469</td>\n",
       "      <td>2</td>\n",
       "    </tr>\n",
       "    <tr>\n",
       "      <th>4</th>\n",
       "      <td>000566</td>\n",
       "      <td>1</td>\n",
       "    </tr>\n",
       "    <tr>\n",
       "      <th>...</th>\n",
       "      <td>...</td>\n",
       "      <td>...</td>\n",
       "    </tr>\n",
       "    <tr>\n",
       "      <th>3237</th>\n",
       "      <td>B67172</td>\n",
       "      <td>1</td>\n",
       "    </tr>\n",
       "    <tr>\n",
       "      <th>3238</th>\n",
       "      <td>B67199</td>\n",
       "      <td>2</td>\n",
       "    </tr>\n",
       "    <tr>\n",
       "      <th>3239</th>\n",
       "      <td>B67300</td>\n",
       "      <td>1</td>\n",
       "    </tr>\n",
       "    <tr>\n",
       "      <th>3240</th>\n",
       "      <td>B67318</td>\n",
       "      <td>3</td>\n",
       "    </tr>\n",
       "    <tr>\n",
       "      <th>3241</th>\n",
       "      <td>B67334</td>\n",
       "      <td>2</td>\n",
       "    </tr>\n",
       "  </tbody>\n",
       "</table>\n",
       "<p>3242 rows × 2 columns</p>\n",
       "</div>"
      ],
      "text/plain": [
       "     school_id  Highest_Covid_Cases_In_One_Day\n",
       "0            0                               4\n",
       "1       000000                               1\n",
       "2       000078                               5\n",
       "3       000469                               2\n",
       "4       000566                               1\n",
       "...        ...                             ...\n",
       "3237    B67172                               1\n",
       "3238    B67199                               2\n",
       "3239    B67300                               1\n",
       "3240    B67318                               3\n",
       "3241    B67334                               2\n",
       "\n",
       "[3242 rows x 2 columns]"
      ]
     },
     "execution_count": 51,
     "metadata": {},
     "output_type": "execute_result"
    }
   ],
   "source": [
    "#renaming the last column\n",
    "MaxCases = max_total_cases_by_school.rename(columns={\"total_confirmed_cases\": \"Highest_Covid_Cases_In_One_Day\"})\n",
    "MaxCases"
   ]
  },
  {
   "cell_type": "markdown",
   "id": "e563b69a",
   "metadata": {},
   "source": [
    "### Analysis on Dataset 1 - Ontario Schools Covid Dataset \n",
    "\n",
    "Let’s generate some descriptive statistics for our transformed Ontario Schools Covid data."
   ]
  },
  {
   "cell_type": "code",
   "execution_count": 52,
   "id": "426f40e4",
   "metadata": {},
   "outputs": [
    {
     "data": {
      "text/plain": [
       "count    3242.000000\n",
       "mean        2.694633\n",
       "std         2.540489\n",
       "min         1.000000\n",
       "25%         1.000000\n",
       "50%         2.000000\n",
       "75%         3.000000\n",
       "max        48.000000\n",
       "Name: Highest_Covid_Cases_In_One_Day, dtype: float64"
      ]
     },
     "execution_count": 52,
     "metadata": {},
     "output_type": "execute_result"
    }
   ],
   "source": [
    "# Generating descriptive statistics on last column\n",
    "MaxCases['Highest_Covid_Cases_In_One_Day'].describe()"
   ]
  },
  {
   "cell_type": "markdown",
   "id": "e9f8e3e9",
   "metadata": {},
   "source": [
    "We have an outlier!  Or at least one outlier that we can see from the max statistic.  A school has a count of 48 cases in one day while the mean is only 2.7 and the std is only 2.5.  Let’s see if that school with 48 cases in one day has high enrolment.\n",
    "\n",
    "Let’s also check the median and mode for total confirmed cases:"
   ]
  },
  {
   "cell_type": "code",
   "execution_count": 53,
   "id": "252a01ef",
   "metadata": {},
   "outputs": [
    {
     "data": {
      "text/plain": [
       "2.0"
      ]
     },
     "execution_count": 53,
     "metadata": {},
     "output_type": "execute_result"
    }
   ],
   "source": [
    "MaxCases['Highest_Covid_Cases_In_One_Day'].median()"
   ]
  },
  {
   "cell_type": "code",
   "execution_count": 54,
   "id": "119474e5",
   "metadata": {},
   "outputs": [
    {
     "data": {
      "text/plain": [
       "0    1\n",
       "dtype: int64"
      ]
     },
     "execution_count": 54,
     "metadata": {},
     "output_type": "execute_result"
    }
   ],
   "source": [
    "MaxCases['Highest_Covid_Cases_In_One_Day'].mode()"
   ]
  },
  {
   "cell_type": "markdown",
   "id": "e0c3c1f7",
   "metadata": {},
   "source": [
    "The mode and median are also very low so I am getting more and more interested in this outlier with 48 cases in one day.  Which school is it?  How many students does it have?  Where is it located?"
   ]
  },
  {
   "cell_type": "markdown",
   "id": "a2f15504",
   "metadata": {},
   "source": [
    "### Overview on Dataset 2 - Ontario Schools Enrolment"
   ]
  },
  {
   "cell_type": "code",
   "execution_count": 1,
   "id": "5a3901ea",
   "metadata": {},
   "outputs": [],
   "source": [
    "# calling on the pandas library\n",
    "import pandas as pd"
   ]
  },
  {
   "cell_type": "code",
   "execution_count": 2,
   "id": "338339d4",
   "metadata": {},
   "outputs": [],
   "source": [
    "# asking pandas to ingest the Enrolment excel file\n",
    "enrolment_info = pd.read_excel('/Users/wazabifilms/Documents/Juno Data Analytics Course/Python/Python Project/enrolment_by_school_1920_en_supp.xlsx')"
   ]
  },
  {
   "cell_type": "code",
   "execution_count": 3,
   "id": "1b994e29",
   "metadata": {},
   "outputs": [
    {
     "data": {
      "text/html": [
       "<div>\n",
       "<style scoped>\n",
       "    .dataframe tbody tr th:only-of-type {\n",
       "        vertical-align: middle;\n",
       "    }\n",
       "\n",
       "    .dataframe tbody tr th {\n",
       "        vertical-align: top;\n",
       "    }\n",
       "\n",
       "    .dataframe thead th {\n",
       "        text-align: right;\n",
       "    }\n",
       "</style>\n",
       "<table border=\"1\" class=\"dataframe\">\n",
       "  <thead>\n",
       "    <tr style=\"text-align: right;\">\n",
       "      <th></th>\n",
       "      <th>Board Number</th>\n",
       "      <th>Board Name</th>\n",
       "      <th>School Number</th>\n",
       "      <th>School Name</th>\n",
       "      <th>School Level</th>\n",
       "      <th>School Type</th>\n",
       "      <th>School Language</th>\n",
       "      <th>Enrolment</th>\n",
       "    </tr>\n",
       "  </thead>\n",
       "  <tbody>\n",
       "    <tr>\n",
       "      <th>0</th>\n",
       "      <td>B28010</td>\n",
       "      <td>Algoma DSB</td>\n",
       "      <td>902344.0</td>\n",
       "      <td>Algoma Education Connection SS</td>\n",
       "      <td>Secondary</td>\n",
       "      <td>Public</td>\n",
       "      <td>English</td>\n",
       "      <td>210</td>\n",
       "    </tr>\n",
       "    <tr>\n",
       "      <th>1</th>\n",
       "      <td>B28010</td>\n",
       "      <td>Algoma DSB</td>\n",
       "      <td>19186.0</td>\n",
       "      <td>Anna McCrea PS</td>\n",
       "      <td>Elementary</td>\n",
       "      <td>Public</td>\n",
       "      <td>English</td>\n",
       "      <td>200</td>\n",
       "    </tr>\n",
       "    <tr>\n",
       "      <th>2</th>\n",
       "      <td>B28010</td>\n",
       "      <td>Algoma DSB</td>\n",
       "      <td>67679.0</td>\n",
       "      <td>Arthur Henderson PS</td>\n",
       "      <td>Elementary</td>\n",
       "      <td>Public</td>\n",
       "      <td>English</td>\n",
       "      <td>40</td>\n",
       "    </tr>\n",
       "    <tr>\n",
       "      <th>3</th>\n",
       "      <td>B28010</td>\n",
       "      <td>Algoma DSB</td>\n",
       "      <td>43362.0</td>\n",
       "      <td>Ben R McMullin PS</td>\n",
       "      <td>Elementary</td>\n",
       "      <td>Public</td>\n",
       "      <td>English</td>\n",
       "      <td>150</td>\n",
       "    </tr>\n",
       "    <tr>\n",
       "      <th>4</th>\n",
       "      <td>B28010</td>\n",
       "      <td>Algoma DSB</td>\n",
       "      <td>54542.0</td>\n",
       "      <td>Blind River PS</td>\n",
       "      <td>Elementary</td>\n",
       "      <td>Public</td>\n",
       "      <td>English</td>\n",
       "      <td>175</td>\n",
       "    </tr>\n",
       "    <tr>\n",
       "      <th>...</th>\n",
       "      <td>...</td>\n",
       "      <td>...</td>\n",
       "      <td>...</td>\n",
       "      <td>...</td>\n",
       "      <td>...</td>\n",
       "      <td>...</td>\n",
       "      <td>...</td>\n",
       "      <td>...</td>\n",
       "    </tr>\n",
       "    <tr>\n",
       "      <th>4839</th>\n",
       "      <td>B66095</td>\n",
       "      <td>York Region DSB</td>\n",
       "      <td>954292.0</td>\n",
       "      <td>Woodbridge College</td>\n",
       "      <td>Secondary</td>\n",
       "      <td>Public</td>\n",
       "      <td>English</td>\n",
       "      <td>515</td>\n",
       "    </tr>\n",
       "    <tr>\n",
       "      <th>4840</th>\n",
       "      <td>B66095</td>\n",
       "      <td>York Region DSB</td>\n",
       "      <td>617318.0</td>\n",
       "      <td>Woodbridge PS</td>\n",
       "      <td>Elementary</td>\n",
       "      <td>Public</td>\n",
       "      <td>English</td>\n",
       "      <td>490</td>\n",
       "    </tr>\n",
       "    <tr>\n",
       "      <th>4841</th>\n",
       "      <td>B66095</td>\n",
       "      <td>York Region DSB</td>\n",
       "      <td>618896.0</td>\n",
       "      <td>Woodland PS</td>\n",
       "      <td>Elementary</td>\n",
       "      <td>Public</td>\n",
       "      <td>English</td>\n",
       "      <td>260</td>\n",
       "    </tr>\n",
       "    <tr>\n",
       "      <th>4842</th>\n",
       "      <td>B66095</td>\n",
       "      <td>York Region DSB</td>\n",
       "      <td>624101.0</td>\n",
       "      <td>Yorkhill E S</td>\n",
       "      <td>Elementary</td>\n",
       "      <td>Public</td>\n",
       "      <td>English</td>\n",
       "      <td>405</td>\n",
       "    </tr>\n",
       "    <tr>\n",
       "      <th>4843</th>\n",
       "      <td>NaN</td>\n",
       "      <td>Total</td>\n",
       "      <td>NaN</td>\n",
       "      <td>NaN</td>\n",
       "      <td>NaN</td>\n",
       "      <td>NaN</td>\n",
       "      <td>NaN</td>\n",
       "      <td>2056055</td>\n",
       "    </tr>\n",
       "  </tbody>\n",
       "</table>\n",
       "<p>4844 rows × 8 columns</p>\n",
       "</div>"
      ],
      "text/plain": [
       "     Board Number       Board Name  School Number  \\\n",
       "0          B28010       Algoma DSB       902344.0   \n",
       "1          B28010       Algoma DSB        19186.0   \n",
       "2          B28010       Algoma DSB        67679.0   \n",
       "3          B28010       Algoma DSB        43362.0   \n",
       "4          B28010       Algoma DSB        54542.0   \n",
       "...           ...              ...            ...   \n",
       "4839       B66095  York Region DSB       954292.0   \n",
       "4840       B66095  York Region DSB       617318.0   \n",
       "4841       B66095  York Region DSB       618896.0   \n",
       "4842       B66095  York Region DSB       624101.0   \n",
       "4843          NaN           Total             NaN   \n",
       "\n",
       "                         School Name School Level School Type School Language  \\\n",
       "0     Algoma Education Connection SS    Secondary      Public         English   \n",
       "1                     Anna McCrea PS   Elementary      Public         English   \n",
       "2                Arthur Henderson PS   Elementary      Public         English   \n",
       "3                  Ben R McMullin PS   Elementary      Public         English   \n",
       "4                     Blind River PS   Elementary      Public         English   \n",
       "...                              ...          ...         ...             ...   \n",
       "4839              Woodbridge College    Secondary      Public         English   \n",
       "4840                   Woodbridge PS   Elementary      Public         English   \n",
       "4841                     Woodland PS   Elementary      Public         English   \n",
       "4842                    Yorkhill E S   Elementary      Public         English   \n",
       "4843                             NaN          NaN         NaN             NaN   \n",
       "\n",
       "     Enrolment  \n",
       "0          210  \n",
       "1          200  \n",
       "2           40  \n",
       "3          150  \n",
       "4          175  \n",
       "...        ...  \n",
       "4839       515  \n",
       "4840       490  \n",
       "4841       260  \n",
       "4842       405  \n",
       "4843   2056055  \n",
       "\n",
       "[4844 rows x 8 columns]"
      ]
     },
     "execution_count": 3,
     "metadata": {},
     "output_type": "execute_result"
    }
   ],
   "source": [
    "# displaying a preview of the excel file as a dataframe\n",
    "enrolment_info"
   ]
  },
  {
   "cell_type": "code",
   "execution_count": 4,
   "id": "454f41f3",
   "metadata": {},
   "outputs": [
    {
     "data": {
      "text/plain": [
       "Board Number        True\n",
       "Board Name         False\n",
       "School Number       True\n",
       "School Name         True\n",
       "School Level        True\n",
       "School Type         True\n",
       "School Language     True\n",
       "Enrolment          False\n",
       "dtype: bool"
      ]
     },
     "execution_count": 4,
     "metadata": {},
     "output_type": "execute_result"
    }
   ],
   "source": [
    "# trying to find out if there are any missing values in the data\n",
    "enrolment_info.isna().any()"
   ]
  },
  {
   "cell_type": "markdown",
   "id": "6cad2550",
   "metadata": {},
   "source": [
    "It looks like the missing values are in the last row.  The last row prints the total enrolment for all schools.  We can delete that row since we only want to analyze enrolment for each school."
   ]
  },
  {
   "cell_type": "markdown",
   "id": "d75a288f",
   "metadata": {},
   "source": [
    "### Cleanup and Transformation on Dataset 2 - Ontario Schools Enrolment "
   ]
  },
  {
   "cell_type": "code",
   "execution_count": 6,
   "id": "c867a1f8",
   "metadata": {},
   "outputs": [],
   "source": [
    "# deleting the 'Total' row\n",
    "enrolment_info.drop([4843], axis=0, inplace=True)"
   ]
  },
  {
   "cell_type": "code",
   "execution_count": 7,
   "id": "10e7b8d3",
   "metadata": {},
   "outputs": [
    {
     "data": {
      "text/plain": [
       "Board Number       False\n",
       "Board Name         False\n",
       "School Number      False\n",
       "School Name        False\n",
       "School Level       False\n",
       "School Type        False\n",
       "School Language    False\n",
       "Enrolment          False\n",
       "dtype: bool"
      ]
     },
     "execution_count": 7,
     "metadata": {},
     "output_type": "execute_result"
    }
   ],
   "source": [
    "# trying to find out if the 'Total' row has been deleted successfully and if there are other missing values in the dataframe\n",
    "enrolment_info.isna().any()"
   ]
  },
  {
   "cell_type": "markdown",
   "id": "9771f9e7",
   "metadata": {},
   "source": [
    "Perfect!  There are no more missing values and we got rid of the 'Total' row"
   ]
  },
  {
   "cell_type": "code",
   "execution_count": 8,
   "id": "5b3bbe14",
   "metadata": {},
   "outputs": [
    {
     "data": {
      "text/plain": [
       "4843"
      ]
     },
     "execution_count": 8,
     "metadata": {},
     "output_type": "execute_result"
    }
   ],
   "source": [
    "# Trying to find how many unique schools in the dataset\n",
    "enrolment_info['School Number'].nunique()"
   ]
  },
  {
   "cell_type": "markdown",
   "id": "9a8fdb48",
   "metadata": {},
   "source": [
    "Great!  This tells us that each row represents one school.  Now let's see how many unique objects there are in the columns 'School Level', 'School Type', and 'School Language' and what the values are for each."
   ]
  },
  {
   "cell_type": "code",
   "execution_count": 9,
   "id": "34f918d4",
   "metadata": {},
   "outputs": [
    {
     "data": {
      "text/plain": [
       "array(['English', 'French'], dtype=object)"
      ]
     },
     "execution_count": 9,
     "metadata": {},
     "output_type": "execute_result"
    }
   ],
   "source": [
    "enrolment_info['School Level'].unique()"
   ]
  },
  {
   "cell_type": "code",
   "execution_count": 10,
   "id": "fd5c31a9",
   "metadata": {},
   "outputs": [
    {
     "data": {
      "text/plain": [
       "array(['Public', 'Catholic', 'Protestant Separate'], dtype=object)"
      ]
     },
     "execution_count": 10,
     "metadata": {},
     "output_type": "execute_result"
    }
   ],
   "source": [
    "enrolment_info['School Type'].unique()"
   ]
  },
  {
   "cell_type": "code",
   "execution_count": 11,
   "id": "7f70f143",
   "metadata": {},
   "outputs": [
    {
     "data": {
      "text/plain": [
       "array(['English', 'French'], dtype=object)"
      ]
     },
     "execution_count": 11,
     "metadata": {},
     "output_type": "execute_result"
    }
   ],
   "source": [
    "enrolment_info['School Language'].unique()"
   ]
  },
  {
   "cell_type": "markdown",
   "id": "b888b960",
   "metadata": {},
   "source": [
    "Now let's sort the enrolment column to get an idea of the range of values.  But it looks like the 'Enrolment' column is a mix of numbers and strings.  "
   ]
  },
  {
   "cell_type": "markdown",
   "id": "0696985b",
   "metadata": {},
   "source": [
    "There is also a value of '<10' in the enrolment column.  That's problematic in more ways than one.  The biggest issue is that we need only numerics in this column and there is no way to find the actual enrolment numbers for each of those schools (at least not within our timeframe).  Let's see how many of these rows have less than 10 enrolment.  If it's not too many, we can probably discard them since they don't seem like regular schools anyway."
   ]
  },
  {
   "cell_type": "code",
   "execution_count": 14,
   "id": "3813c257",
   "metadata": {},
   "outputs": [
    {
     "data": {
      "text/html": [
       "<div>\n",
       "<style scoped>\n",
       "    .dataframe tbody tr th:only-of-type {\n",
       "        vertical-align: middle;\n",
       "    }\n",
       "\n",
       "    .dataframe tbody tr th {\n",
       "        vertical-align: top;\n",
       "    }\n",
       "\n",
       "    .dataframe thead th {\n",
       "        text-align: right;\n",
       "    }\n",
       "</style>\n",
       "<table border=\"1\" class=\"dataframe\">\n",
       "  <thead>\n",
       "    <tr style=\"text-align: right;\">\n",
       "      <th></th>\n",
       "      <th>Board Number</th>\n",
       "      <th>Board Name</th>\n",
       "      <th>School Number</th>\n",
       "      <th>School Name</th>\n",
       "      <th>School Level</th>\n",
       "      <th>School Type</th>\n",
       "      <th>School Language</th>\n",
       "      <th>Enrolment</th>\n",
       "    </tr>\n",
       "  </thead>\n",
       "  <tbody>\n",
       "    <tr>\n",
       "      <th>27</th>\n",
       "      <td>B28010</td>\n",
       "      <td>Algoma DSB</td>\n",
       "      <td>368490.0</td>\n",
       "      <td>Missarenda Consolidated PS</td>\n",
       "      <td>Elementary</td>\n",
       "      <td>Public</td>\n",
       "      <td>English</td>\n",
       "      <td>&lt;10</td>\n",
       "    </tr>\n",
       "    <tr>\n",
       "      <th>265</th>\n",
       "      <td>B67172</td>\n",
       "      <td>CDSB of Eastern Ontario</td>\n",
       "      <td>745698.0</td>\n",
       "      <td>St. James Catholic Education Centre HS</td>\n",
       "      <td>Secondary</td>\n",
       "      <td>Catholic</td>\n",
       "      <td>English</td>\n",
       "      <td>&lt;10</td>\n",
       "    </tr>\n",
       "    <tr>\n",
       "      <th>438</th>\n",
       "      <td>B28118</td>\n",
       "      <td>CS public du Grand Nord de l'Ontario</td>\n",
       "      <td>25977.0</td>\n",
       "      <td>École publique l'Escalade</td>\n",
       "      <td>Elementary</td>\n",
       "      <td>Public</td>\n",
       "      <td>French</td>\n",
       "      <td>&lt;10</td>\n",
       "    </tr>\n",
       "    <tr>\n",
       "      <th>512</th>\n",
       "      <td>B29130</td>\n",
       "      <td>CSDC des Aurores boréales</td>\n",
       "      <td>740225.0</td>\n",
       "      <td>Notre-Dame-des-Écoles</td>\n",
       "      <td>Elementary</td>\n",
       "      <td>Catholic</td>\n",
       "      <td>French</td>\n",
       "      <td>&lt;10</td>\n",
       "    </tr>\n",
       "    <tr>\n",
       "      <th>1111</th>\n",
       "      <td>B66060</td>\n",
       "      <td>Durham DSB</td>\n",
       "      <td>933156.0</td>\n",
       "      <td>DCE - Under 21 CI &amp; VS</td>\n",
       "      <td>Secondary</td>\n",
       "      <td>Public</td>\n",
       "      <td>English</td>\n",
       "      <td>&lt;10</td>\n",
       "    </tr>\n",
       "    <tr>\n",
       "      <th>1865</th>\n",
       "      <td>B28045</td>\n",
       "      <td>Keewatin-Patricia DSB</td>\n",
       "      <td>501484.0</td>\n",
       "      <td>Savant Lake PS</td>\n",
       "      <td>Elementary</td>\n",
       "      <td>Public</td>\n",
       "      <td>English</td>\n",
       "      <td>&lt;10</td>\n",
       "    </tr>\n",
       "    <tr>\n",
       "      <th>1869</th>\n",
       "      <td>B28045</td>\n",
       "      <td>Keewatin-Patricia DSB</td>\n",
       "      <td>566489.0</td>\n",
       "      <td>Upsala PS</td>\n",
       "      <td>Elementary</td>\n",
       "      <td>Public</td>\n",
       "      <td>English</td>\n",
       "      <td>&lt;10</td>\n",
       "    </tr>\n",
       "    <tr>\n",
       "      <th>1880</th>\n",
       "      <td>B28061</td>\n",
       "      <td>Lakehead DSB</td>\n",
       "      <td>118575.0</td>\n",
       "      <td>Bernier-Stokes E S</td>\n",
       "      <td>Elementary</td>\n",
       "      <td>Public</td>\n",
       "      <td>English</td>\n",
       "      <td>&lt;10</td>\n",
       "    </tr>\n",
       "    <tr>\n",
       "      <th>2141</th>\n",
       "      <td>B67156</td>\n",
       "      <td>Niagara CDSB</td>\n",
       "      <td>862642.0</td>\n",
       "      <td>Pope Francis C Elem S</td>\n",
       "      <td>Elementary</td>\n",
       "      <td>Catholic</td>\n",
       "      <td>English</td>\n",
       "      <td>&lt;10</td>\n",
       "    </tr>\n",
       "    <tr>\n",
       "      <th>2640</th>\n",
       "      <td>B66125</td>\n",
       "      <td>Peel DSB</td>\n",
       "      <td>506508.0</td>\n",
       "      <td>Peel Alternative - North Elementary</td>\n",
       "      <td>Elementary</td>\n",
       "      <td>Public</td>\n",
       "      <td>English</td>\n",
       "      <td>&lt;10</td>\n",
       "    </tr>\n",
       "    <tr>\n",
       "      <th>2641</th>\n",
       "      <td>B66125</td>\n",
       "      <td>Peel DSB</td>\n",
       "      <td>506613.0</td>\n",
       "      <td>Peel Alternative - South Elementary</td>\n",
       "      <td>Elementary</td>\n",
       "      <td>Public</td>\n",
       "      <td>English</td>\n",
       "      <td>&lt;10</td>\n",
       "    </tr>\n",
       "    <tr>\n",
       "      <th>2761</th>\n",
       "      <td>B28029</td>\n",
       "      <td>Rainbow DSB</td>\n",
       "      <td>11525.0</td>\n",
       "      <td>Alternative Program E S</td>\n",
       "      <td>Elementary</td>\n",
       "      <td>Public</td>\n",
       "      <td>English</td>\n",
       "      <td>&lt;10</td>\n",
       "    </tr>\n",
       "    <tr>\n",
       "      <th>3066</th>\n",
       "      <td>B29033</td>\n",
       "      <td>Sudbury CDSB</td>\n",
       "      <td>810525.0</td>\n",
       "      <td>St Joseph Catholic S</td>\n",
       "      <td>Elementary</td>\n",
       "      <td>Catholic</td>\n",
       "      <td>English</td>\n",
       "      <td>&lt;10</td>\n",
       "    </tr>\n",
       "    <tr>\n",
       "      <th>3067</th>\n",
       "      <td>B29033</td>\n",
       "      <td>Sudbury CDSB</td>\n",
       "      <td>822744.0</td>\n",
       "      <td>St Mark Catholic S</td>\n",
       "      <td>Elementary</td>\n",
       "      <td>Catholic</td>\n",
       "      <td>English</td>\n",
       "      <td>&lt;10</td>\n",
       "    </tr>\n",
       "    <tr>\n",
       "      <th>3075</th>\n",
       "      <td>B29076</td>\n",
       "      <td>Superior North CDSB</td>\n",
       "      <td>780626.0</td>\n",
       "      <td>St Brigid Sep S</td>\n",
       "      <td>Elementary</td>\n",
       "      <td>Catholic</td>\n",
       "      <td>English</td>\n",
       "      <td>&lt;10</td>\n",
       "    </tr>\n",
       "    <tr>\n",
       "      <th>3433</th>\n",
       "      <td>B67059</td>\n",
       "      <td>Toronto CDSB</td>\n",
       "      <td>852549.0</td>\n",
       "      <td>St Martin Catholic School(OL of Lourdes</td>\n",
       "      <td>Elementary</td>\n",
       "      <td>Catholic</td>\n",
       "      <td>English</td>\n",
       "      <td>&lt;10</td>\n",
       "    </tr>\n",
       "    <tr>\n",
       "      <th>3484</th>\n",
       "      <td>B66052</td>\n",
       "      <td>Toronto DSB</td>\n",
       "      <td>285662.0</td>\n",
       "      <td>ALPHA II Alternative S</td>\n",
       "      <td>Elementary</td>\n",
       "      <td>Public</td>\n",
       "      <td>English</td>\n",
       "      <td>&lt;10</td>\n",
       "    </tr>\n",
       "    <tr>\n",
       "      <th>3563</th>\n",
       "      <td>B66052</td>\n",
       "      <td>Toronto DSB</td>\n",
       "      <td>912651.0</td>\n",
       "      <td>Caring and Safe Schools LC1</td>\n",
       "      <td>Secondary</td>\n",
       "      <td>Public</td>\n",
       "      <td>English</td>\n",
       "      <td>&lt;10</td>\n",
       "    </tr>\n",
       "    <tr>\n",
       "      <th>3564</th>\n",
       "      <td>B66052</td>\n",
       "      <td>Toronto DSB</td>\n",
       "      <td>909300.0</td>\n",
       "      <td>Caring and Safe Schools LC2</td>\n",
       "      <td>Secondary</td>\n",
       "      <td>Public</td>\n",
       "      <td>English</td>\n",
       "      <td>&lt;10</td>\n",
       "    </tr>\n",
       "    <tr>\n",
       "      <th>3565</th>\n",
       "      <td>B66052</td>\n",
       "      <td>Toronto DSB</td>\n",
       "      <td>899704.0</td>\n",
       "      <td>Caring and Safe Schools LC3</td>\n",
       "      <td>Secondary</td>\n",
       "      <td>Public</td>\n",
       "      <td>English</td>\n",
       "      <td>&lt;10</td>\n",
       "    </tr>\n",
       "    <tr>\n",
       "      <th>3566</th>\n",
       "      <td>B66052</td>\n",
       "      <td>Toronto DSB</td>\n",
       "      <td>952524.0</td>\n",
       "      <td>Caring and Safe Schools LC4</td>\n",
       "      <td>Secondary</td>\n",
       "      <td>Public</td>\n",
       "      <td>English</td>\n",
       "      <td>&lt;10</td>\n",
       "    </tr>\n",
       "  </tbody>\n",
       "</table>\n",
       "</div>"
      ],
      "text/plain": [
       "     Board Number                            Board Name  School Number  \\\n",
       "27         B28010                            Algoma DSB       368490.0   \n",
       "265        B67172               CDSB of Eastern Ontario       745698.0   \n",
       "438        B28118  CS public du Grand Nord de l'Ontario        25977.0   \n",
       "512        B29130             CSDC des Aurores boréales       740225.0   \n",
       "1111       B66060                            Durham DSB       933156.0   \n",
       "1865       B28045                 Keewatin-Patricia DSB       501484.0   \n",
       "1869       B28045                 Keewatin-Patricia DSB       566489.0   \n",
       "1880       B28061                          Lakehead DSB       118575.0   \n",
       "2141       B67156                          Niagara CDSB       862642.0   \n",
       "2640       B66125                              Peel DSB       506508.0   \n",
       "2641       B66125                              Peel DSB       506613.0   \n",
       "2761       B28029                           Rainbow DSB        11525.0   \n",
       "3066       B29033                          Sudbury CDSB       810525.0   \n",
       "3067       B29033                          Sudbury CDSB       822744.0   \n",
       "3075       B29076                   Superior North CDSB       780626.0   \n",
       "3433       B67059                          Toronto CDSB       852549.0   \n",
       "3484       B66052                           Toronto DSB       285662.0   \n",
       "3563       B66052                           Toronto DSB       912651.0   \n",
       "3564       B66052                           Toronto DSB       909300.0   \n",
       "3565       B66052                           Toronto DSB       899704.0   \n",
       "3566       B66052                           Toronto DSB       952524.0   \n",
       "\n",
       "                                  School Name School Level School Type  \\\n",
       "27                 Missarenda Consolidated PS   Elementary      Public   \n",
       "265    St. James Catholic Education Centre HS    Secondary    Catholic   \n",
       "438                 École publique l'Escalade   Elementary      Public   \n",
       "512                     Notre-Dame-des-Écoles   Elementary    Catholic   \n",
       "1111                   DCE - Under 21 CI & VS    Secondary      Public   \n",
       "1865                           Savant Lake PS   Elementary      Public   \n",
       "1869                                Upsala PS   Elementary      Public   \n",
       "1880                       Bernier-Stokes E S   Elementary      Public   \n",
       "2141                    Pope Francis C Elem S   Elementary    Catholic   \n",
       "2640      Peel Alternative - North Elementary   Elementary      Public   \n",
       "2641      Peel Alternative - South Elementary   Elementary      Public   \n",
       "2761                  Alternative Program E S   Elementary      Public   \n",
       "3066                     St Joseph Catholic S   Elementary    Catholic   \n",
       "3067                       St Mark Catholic S   Elementary    Catholic   \n",
       "3075                          St Brigid Sep S   Elementary    Catholic   \n",
       "3433  St Martin Catholic School(OL of Lourdes   Elementary    Catholic   \n",
       "3484                   ALPHA II Alternative S   Elementary      Public   \n",
       "3563              Caring and Safe Schools LC1    Secondary      Public   \n",
       "3564              Caring and Safe Schools LC2    Secondary      Public   \n",
       "3565              Caring and Safe Schools LC3    Secondary      Public   \n",
       "3566              Caring and Safe Schools LC4    Secondary      Public   \n",
       "\n",
       "     School Language Enrolment  \n",
       "27           English       <10  \n",
       "265          English       <10  \n",
       "438           French       <10  \n",
       "512           French       <10  \n",
       "1111         English       <10  \n",
       "1865         English       <10  \n",
       "1869         English       <10  \n",
       "1880         English       <10  \n",
       "2141         English       <10  \n",
       "2640         English       <10  \n",
       "2641         English       <10  \n",
       "2761         English       <10  \n",
       "3066         English       <10  \n",
       "3067         English       <10  \n",
       "3075         English       <10  \n",
       "3433         English       <10  \n",
       "3484         English       <10  \n",
       "3563         English       <10  \n",
       "3564         English       <10  \n",
       "3565         English       <10  \n",
       "3566         English       <10  "
      ]
     },
     "execution_count": 14,
     "metadata": {},
     "output_type": "execute_result"
    }
   ],
   "source": [
    "# Taking a look at the schools where enrolment is below 10\n",
    "enrolment_info[enrolment_info['Enrolment'] == '<10']"
   ]
  },
  {
   "cell_type": "markdown",
   "id": "576acf46",
   "metadata": {},
   "source": [
    "Not too bad.  There are 21 schools with less than 10 enrolment out of 4843.  So let's discard them"
   ]
  },
  {
   "cell_type": "code",
   "execution_count": 15,
   "id": "c3565dfb",
   "metadata": {},
   "outputs": [],
   "source": [
    "# deleting the schools with enrolment less than 10\n",
    "enrolment_info.drop(enrolment_info.index[enrolment_info['Enrolment'] == '<10'], inplace=True)"
   ]
  },
  {
   "cell_type": "code",
   "execution_count": 16,
   "id": "2e6e1bb3",
   "metadata": {},
   "outputs": [
    {
     "data": {
      "text/plain": [
       "(4822, 8)"
      ]
     },
     "execution_count": 16,
     "metadata": {},
     "output_type": "execute_result"
    }
   ],
   "source": [
    "# Now let's see if it indeed removed 21 rows from the dataframe.\n",
    "enrolment_info.shape"
   ]
  },
  {
   "cell_type": "markdown",
   "id": "c058b159",
   "metadata": {},
   "source": [
    "There are now 4822 rows when there was 4843 before.  So it removed those rows successfully"
   ]
  },
  {
   "cell_type": "code",
   "execution_count": 17,
   "id": "d9e5f67f",
   "metadata": {},
   "outputs": [
    {
     "data": {
      "text/plain": [
       "Board Number        object\n",
       "Board Name          object\n",
       "School Number      float64\n",
       "School Name         object\n",
       "School Level        object\n",
       "School Type         object\n",
       "School Language     object\n",
       "Enrolment           object\n",
       "dtype: object"
      ]
     },
     "execution_count": 17,
     "metadata": {},
     "output_type": "execute_result"
    }
   ],
   "source": [
    "# checking to see if the 'Enrolment' dtype is now a numeric or still a string\n",
    "enrolment_info.dtypes"
   ]
  },
  {
   "cell_type": "code",
   "execution_count": 18,
   "id": "e2cb5364",
   "metadata": {},
   "outputs": [],
   "source": [
    "# Enrolment column is still a string so let's convert it to numeric and hopefully we don't find anymore non numeric values\n",
    "enrolment_info['Enrolment'] = pd.to_numeric(enrolment_info['Enrolment'])"
   ]
  },
  {
   "cell_type": "code",
   "execution_count": 19,
   "id": "0c5affcc",
   "metadata": {},
   "outputs": [
    {
     "data": {
      "text/plain": [
       "Board Number        object\n",
       "Board Name          object\n",
       "School Number      float64\n",
       "School Name         object\n",
       "School Level        object\n",
       "School Type         object\n",
       "School Language     object\n",
       "Enrolment            int64\n",
       "dtype: object"
      ]
     },
     "execution_count": 19,
     "metadata": {},
     "output_type": "execute_result"
    }
   ],
   "source": [
    "# Checking data types again\n",
    "enrolment_info.dtypes"
   ]
  },
  {
   "cell_type": "markdown",
   "id": "a312a362",
   "metadata": {},
   "source": [
    "Yay it worked!  Enrolment data is now an int64.  Let's sort it to see what ranges we have"
   ]
  },
  {
   "cell_type": "code",
   "execution_count": 20,
   "id": "6fd27b50",
   "metadata": {},
   "outputs": [
    {
     "data": {
      "text/html": [
       "<div>\n",
       "<style scoped>\n",
       "    .dataframe tbody tr th:only-of-type {\n",
       "        vertical-align: middle;\n",
       "    }\n",
       "\n",
       "    .dataframe tbody tr th {\n",
       "        vertical-align: top;\n",
       "    }\n",
       "\n",
       "    .dataframe thead th {\n",
       "        text-align: right;\n",
       "    }\n",
       "</style>\n",
       "<table border=\"1\" class=\"dataframe\">\n",
       "  <thead>\n",
       "    <tr style=\"text-align: right;\">\n",
       "      <th></th>\n",
       "      <th>Board Number</th>\n",
       "      <th>Board Name</th>\n",
       "      <th>School Number</th>\n",
       "      <th>School Name</th>\n",
       "      <th>School Level</th>\n",
       "      <th>School Type</th>\n",
       "      <th>School Language</th>\n",
       "      <th>Enrolment</th>\n",
       "    </tr>\n",
       "  </thead>\n",
       "  <tbody>\n",
       "    <tr>\n",
       "      <th>550</th>\n",
       "      <td>B29106</td>\n",
       "      <td>CSDC des Grandes Rivières</td>\n",
       "      <td>819506.0</td>\n",
       "      <td>É C St-Louis (Virginiatown)</td>\n",
       "      <td>Elementary</td>\n",
       "      <td>Catholic</td>\n",
       "      <td>French</td>\n",
       "      <td>10</td>\n",
       "    </tr>\n",
       "    <tr>\n",
       "      <th>738</th>\n",
       "      <td>B66311</td>\n",
       "      <td>CÉP de l'Est de l'Ontario</td>\n",
       "      <td>616160.0</td>\n",
       "      <td>ÉI Rivière-Rideau</td>\n",
       "      <td>Elementary</td>\n",
       "      <td>Public</td>\n",
       "      <td>French</td>\n",
       "      <td>10</td>\n",
       "    </tr>\n",
       "    <tr>\n",
       "      <th>36</th>\n",
       "      <td>B28010</td>\n",
       "      <td>Algoma DSB</td>\n",
       "      <td>677523.0</td>\n",
       "      <td>Rockhaven School forExceptional Children PS</td>\n",
       "      <td>Elementary</td>\n",
       "      <td>Public</td>\n",
       "      <td>English</td>\n",
       "      <td>10</td>\n",
       "    </tr>\n",
       "    <tr>\n",
       "      <th>450</th>\n",
       "      <td>B28100</td>\n",
       "      <td>CSD du Nord-Est de l'Ontario</td>\n",
       "      <td>966753.0</td>\n",
       "      <td>ÉS Passeport Jeunesse</td>\n",
       "      <td>Secondary</td>\n",
       "      <td>Public</td>\n",
       "      <td>French</td>\n",
       "      <td>15</td>\n",
       "    </tr>\n",
       "    <tr>\n",
       "      <th>740</th>\n",
       "      <td>B66311</td>\n",
       "      <td>CÉP de l'Est de l'Ontario</td>\n",
       "      <td>890139.0</td>\n",
       "      <td>ÉSP Barrhaven sud</td>\n",
       "      <td>Secondary</td>\n",
       "      <td>Public</td>\n",
       "      <td>French</td>\n",
       "      <td>15</td>\n",
       "    </tr>\n",
       "    <tr>\n",
       "      <th>...</th>\n",
       "      <td>...</td>\n",
       "      <td>...</td>\n",
       "      <td>...</td>\n",
       "      <td>...</td>\n",
       "      <td>...</td>\n",
       "      <td>...</td>\n",
       "      <td>...</td>\n",
       "      <td>...</td>\n",
       "    </tr>\n",
       "    <tr>\n",
       "      <th>3147</th>\n",
       "      <td>B66044</td>\n",
       "      <td>Thames Valley DSB</td>\n",
       "      <td>914908.0</td>\n",
       "      <td>H B Beal SS</td>\n",
       "      <td>Secondary</td>\n",
       "      <td>Public</td>\n",
       "      <td>English</td>\n",
       "      <td>2075</td>\n",
       "    </tr>\n",
       "    <tr>\n",
       "      <th>4328</th>\n",
       "      <td>B67148</td>\n",
       "      <td>Waterloo CDSB</td>\n",
       "      <td>832103.0</td>\n",
       "      <td>St Mary's HS</td>\n",
       "      <td>Secondary</td>\n",
       "      <td>Catholic</td>\n",
       "      <td>English</td>\n",
       "      <td>2090</td>\n",
       "    </tr>\n",
       "    <tr>\n",
       "      <th>1518</th>\n",
       "      <td>B66133</td>\n",
       "      <td>Halton DSB</td>\n",
       "      <td>953121.0</td>\n",
       "      <td>White Oaks HS</td>\n",
       "      <td>Secondary</td>\n",
       "      <td>Public</td>\n",
       "      <td>English</td>\n",
       "      <td>2135</td>\n",
       "    </tr>\n",
       "    <tr>\n",
       "      <th>1520</th>\n",
       "      <td>B67121</td>\n",
       "      <td>Hamilton-Wentworth CDSB</td>\n",
       "      <td>689750.0</td>\n",
       "      <td>Bishop Ryan Catholic SS</td>\n",
       "      <td>Secondary</td>\n",
       "      <td>Catholic</td>\n",
       "      <td>English</td>\n",
       "      <td>2165</td>\n",
       "    </tr>\n",
       "    <tr>\n",
       "      <th>1368</th>\n",
       "      <td>B67113</td>\n",
       "      <td>Halton CDSB</td>\n",
       "      <td>696392.0</td>\n",
       "      <td>Jean Vanier Catholic SS</td>\n",
       "      <td>Secondary</td>\n",
       "      <td>Catholic</td>\n",
       "      <td>English</td>\n",
       "      <td>2245</td>\n",
       "    </tr>\n",
       "  </tbody>\n",
       "</table>\n",
       "<p>4822 rows × 8 columns</p>\n",
       "</div>"
      ],
      "text/plain": [
       "     Board Number                    Board Name  School Number  \\\n",
       "550        B29106     CSDC des Grandes Rivières       819506.0   \n",
       "738        B66311     CÉP de l'Est de l'Ontario       616160.0   \n",
       "36         B28010                    Algoma DSB       677523.0   \n",
       "450        B28100  CSD du Nord-Est de l'Ontario       966753.0   \n",
       "740        B66311     CÉP de l'Est de l'Ontario       890139.0   \n",
       "...           ...                           ...            ...   \n",
       "3147       B66044             Thames Valley DSB       914908.0   \n",
       "4328       B67148                 Waterloo CDSB       832103.0   \n",
       "1518       B66133                    Halton DSB       953121.0   \n",
       "1520       B67121       Hamilton-Wentworth CDSB       689750.0   \n",
       "1368       B67113                   Halton CDSB       696392.0   \n",
       "\n",
       "                                      School Name School Level School Type  \\\n",
       "550                   É C St-Louis (Virginiatown)   Elementary    Catholic   \n",
       "738                             ÉI Rivière-Rideau   Elementary      Public   \n",
       "36    Rockhaven School forExceptional Children PS   Elementary      Public   \n",
       "450                         ÉS Passeport Jeunesse    Secondary      Public   \n",
       "740                             ÉSP Barrhaven sud    Secondary      Public   \n",
       "...                                           ...          ...         ...   \n",
       "3147                                  H B Beal SS    Secondary      Public   \n",
       "4328                                 St Mary's HS    Secondary    Catholic   \n",
       "1518                                White Oaks HS    Secondary      Public   \n",
       "1520                      Bishop Ryan Catholic SS    Secondary    Catholic   \n",
       "1368                      Jean Vanier Catholic SS    Secondary    Catholic   \n",
       "\n",
       "     School Language  Enrolment  \n",
       "550           French         10  \n",
       "738           French         10  \n",
       "36           English         10  \n",
       "450           French         15  \n",
       "740           French         15  \n",
       "...              ...        ...  \n",
       "3147         English       2075  \n",
       "4328         English       2090  \n",
       "1518         English       2135  \n",
       "1520         English       2165  \n",
       "1368         English       2245  \n",
       "\n",
       "[4822 rows x 8 columns]"
      ]
     },
     "execution_count": 20,
     "metadata": {},
     "output_type": "execute_result"
    }
   ],
   "source": [
    "# Sorting by enrolment\n",
    "enrolment_info.sort_values(by='Enrolment')"
   ]
  },
  {
   "cell_type": "markdown",
   "id": "1f65d2a8",
   "metadata": {},
   "source": [
    "There are also some schools that have really low enrolment - in the double digits only.  Also, it’s interesting to note that enrolment numbers only appear in 5’s.  Examples; 10, 15, 2075,  2245 etc, But let’s take all of them into account moving forward even if some numbers are low.  "
   ]
  },
  {
   "cell_type": "markdown",
   "id": "11dd5433",
   "metadata": {},
   "source": [
    "### Analysis on Dataset 2 - Ontario Schools Enrolment\n",
    "Let’s generate some descriptive statistics on Enrolment numbers:"
   ]
  },
  {
   "cell_type": "code",
   "execution_count": 55,
   "id": "674f3994",
   "metadata": {},
   "outputs": [
    {
     "data": {
      "text/plain": [
       "count    4822.000000\n",
       "mean      426.335545\n",
       "std       308.564232\n",
       "min        10.000000\n",
       "25%       220.000000\n",
       "50%       350.000000\n",
       "75%       540.000000\n",
       "max      2245.000000\n",
       "Name: Enrolment, dtype: float64"
      ]
     },
     "execution_count": 55,
     "metadata": {},
     "output_type": "execute_result"
    }
   ],
   "source": [
    "# Generating descriptive statistics on Enrolment\n",
    "enrolment_info['Enrolment'].describe()"
   ]
  },
  {
   "cell_type": "markdown",
   "id": "8ec8b7e8",
   "metadata": {},
   "source": [
    "We have a high standard deviation so we have a big range of enrolment numbers.\n",
    "\n",
    "Let’s also check the median and mode for enrolment:"
   ]
  },
  {
   "cell_type": "code",
   "execution_count": 56,
   "id": "b09ff108",
   "metadata": {},
   "outputs": [
    {
     "data": {
      "text/plain": [
       "350.0"
      ]
     },
     "execution_count": 56,
     "metadata": {},
     "output_type": "execute_result"
    }
   ],
   "source": [
    "enrolment_info['Enrolment'].median()"
   ]
  },
  {
   "cell_type": "code",
   "execution_count": 57,
   "id": "466c7043",
   "metadata": {},
   "outputs": [
    {
     "data": {
      "text/plain": [
       "0    240\n",
       "dtype: int64"
      ]
     },
     "execution_count": 57,
     "metadata": {},
     "output_type": "execute_result"
    }
   ],
   "source": [
    "enrolment_info['Enrolment'].mode()"
   ]
  },
  {
   "cell_type": "markdown",
   "id": "edb16ad0",
   "metadata": {},
   "source": [
    "Is it fair to lump all the school levels (elementary and secondary) together when calculating the stats?\n",
    "\n",
    "Let’s quickly visualize the size ratios of these school types and get their means and max of enrolment:"
   ]
  },
  {
   "cell_type": "code",
   "execution_count": 58,
   "id": "4f21dd84",
   "metadata": {},
   "outputs": [
    {
     "data": {
      "text/plain": [
       "<AxesSubplot:xlabel='School Level'>"
      ]
     },
     "execution_count": 58,
     "metadata": {},
     "output_type": "execute_result"
    },
    {
     "data": {
      "image/png": "[encoded data removed]",
      "text/plain": [
       "<Figure size 432x288 with 1 Axes>"
      ]
     },
     "metadata": {
      "needs_background": "light"
     },
     "output_type": "display_data"
    }
   ],
   "source": [
    "# Visualizing the number of Elementary and High Schools in the province\n",
    "enrolment_info.groupby('School Level').size().plot(kind='bar')"
   ]
  },
  {
   "cell_type": "code",
   "execution_count": 60,
   "id": "bc8434bd",
   "metadata": {},
   "outputs": [
    {
     "data": {
      "text/plain": [
       "School Level\n",
       "Elementary    360.541498\n",
       "Secondary     725.206897\n",
       "Name: Enrolment, dtype: float64"
      ]
     },
     "execution_count": 60,
     "metadata": {},
     "output_type": "execute_result"
    }
   ],
   "source": [
    "# Grouping by School Level and outputting each of their mean enrolment\n",
    "enrolment_info.groupby('School Level').mean()['Enrolment'].loc[['Elementary', 'Secondary']]"
   ]
  },
  {
   "cell_type": "code",
   "execution_count": 61,
   "id": "b4560c3d",
   "metadata": {},
   "outputs": [
    {
     "data": {
      "text/plain": [
       "School Level\n",
       "Elementary    1400\n",
       "Secondary     2245\n",
       "Name: Enrolment, dtype: int64"
      ]
     },
     "execution_count": 61,
     "metadata": {},
     "output_type": "execute_result"
    }
   ],
   "source": [
    "# Grouping by School Level and outputting each of their max enrolment\n",
    "enrolment_info.groupby('School Level').max()['Enrolment'].loc[['Elementary', 'Secondary']]"
   ]
  },
  {
   "cell_type": "markdown",
   "id": "1e1754e8",
   "metadata": {},
   "source": [
    "There are 4 times more elementary schools than high schools in Ontario but average high school enrolment is double the elementary average enrolment.  Max enrolment is also double for high schools than elementary.  "
   ]
  },
  {
   "cell_type": "code",
   "execution_count": 62,
   "id": "cb3762cc",
   "metadata": {},
   "outputs": [
    {
     "data": {
      "text/plain": [
       "<AxesSubplot:xlabel='School Type'>"
      ]
     },
     "execution_count": 62,
     "metadata": {},
     "output_type": "execute_result"
    },
    {
     "data": {
      "image/png": "[encoded data removed]",
      "text/plain": [
       "<Figure size 432x288 with 1 Axes>"
      ]
     },
     "metadata": {
      "needs_background": "light"
     },
     "output_type": "display_data"
    }
   ],
   "source": [
    "# Visualizing the number of Public and Catholic Schools in the province\n",
    "enrolment_info.groupby('School Type').size().plot(kind='bar')"
   ]
  },
  {
   "cell_type": "code",
   "execution_count": 63,
   "id": "ea9036f6",
   "metadata": {},
   "outputs": [
    {
     "data": {
      "text/plain": [
       "School Type\n",
       "Catholic               397.384428\n",
       "Public                 441.334592\n",
       "Protestant Separate    370.000000\n",
       "Name: Enrolment, dtype: float64"
      ]
     },
     "execution_count": 63,
     "metadata": {},
     "output_type": "execute_result"
    }
   ],
   "source": [
    "# Grouping by Public and Catholic and outputting each of their mean enrolment\n",
    "enrolment_info.groupby('School Type').mean()['Enrolment'].loc[['Catholic', 'Public', 'Protestant Separate']]"
   ]
  },
  {
   "cell_type": "code",
   "execution_count": 64,
   "id": "f144732f",
   "metadata": {},
   "outputs": [
    {
     "data": {
      "text/plain": [
       "School Type\n",
       "Catholic               2245\n",
       "Public                 2135\n",
       "Protestant Separate     370\n",
       "Name: Enrolment, dtype: int64"
      ]
     },
     "execution_count": 64,
     "metadata": {},
     "output_type": "execute_result"
    }
   ],
   "source": [
    "# Grouping by Public and Catholic and outputting each of their max enrolment\n",
    "enrolment_info.groupby('School Type').max()['Enrolment'].loc[['Catholic', 'Public', 'Protestant Separate']]"
   ]
  },
  {
   "cell_type": "markdown",
   "id": "2738374a",
   "metadata": {},
   "source": [
    "Although there are twice as many public schools as Catholic, their enrolment number statistics are fairly similar.  As for the Protestant Separate school - there seems to be only one in the province so we can disregard this."
   ]
  },
  {
   "cell_type": "code",
   "execution_count": 65,
   "id": "87cb6821",
   "metadata": {},
   "outputs": [
    {
     "data": {
      "text/plain": [
       "<AxesSubplot:xlabel='School Language'>"
      ]
     },
     "execution_count": 65,
     "metadata": {},
     "output_type": "execute_result"
    },
    {
     "data": {
      "image/png": "[encoded data removed]",
      "text/plain": [
       "<Figure size 432x288 with 1 Axes>"
      ]
     },
     "metadata": {
      "needs_background": "light"
     },
     "output_type": "display_data"
    }
   ],
   "source": [
    "# Visualizing the number of English and French Schools in the province\n",
    "enrolment_info.groupby('School Language').size().plot(kind='bar')"
   ]
  },
  {
   "cell_type": "code",
   "execution_count": 66,
   "id": "ab6b243e",
   "metadata": {},
   "outputs": [
    {
     "data": {
      "text/plain": [
       "School Language\n",
       "English    447.014960\n",
       "French     237.966457\n",
       "Name: Enrolment, dtype: float64"
      ]
     },
     "execution_count": 66,
     "metadata": {},
     "output_type": "execute_result"
    }
   ],
   "source": [
    "# Grouping by English and French and outputting each of their mean enrolment\n",
    "enrolment_info.groupby('School Language').mean()['Enrolment'].loc[['English', 'French']]"
   ]
  },
  {
   "cell_type": "code",
   "execution_count": 67,
   "id": "db00c686",
   "metadata": {},
   "outputs": [
    {
     "data": {
      "text/plain": [
       "School Language\n",
       "English    2245\n",
       "French      985\n",
       "Name: Enrolment, dtype: int64"
      ]
     },
     "execution_count": 67,
     "metadata": {},
     "output_type": "execute_result"
    }
   ],
   "source": [
    "# Grouping by English and French and outputting each of their max enrolment\n",
    "enrolment_info.groupby('School Language').max()['Enrolment'].loc[['English', 'French']]"
   ]
  },
  {
   "cell_type": "markdown",
   "id": "5951a75e",
   "metadata": {},
   "source": [
    "There are definitely way more English schools than French in Ontario. And French school enrolments is about half of English schools.\n",
    "\n",
    "Let’s see if these distinctions make a difference in answering our question."
   ]
  },
  {
   "cell_type": "markdown",
   "id": "ab14677c",
   "metadata": {},
   "source": [
    "### Answering the Question: \n",
    "Let’s finally merge our transformed enrolment data with our transformed covid cases in schools data using school_id and school number as keys.  \n",
    "\n",
    "My first attempt was a left join but discovered that an inner join is better.\n",
    "\n",
    "An inner join includes only schools that reported covid cases (some schools had no covid cases but were included in the enrolment data) and schools that are actually schools (not board office sites, which are included in the covid data).  A left join would have included schools with null values on ‘total_confirmed_cases.’  It would have worked but I would have to drop those values afterwards.  An inner join does this automatically.\n",
    "\n",
    "Merging these tables appends the correct enrolment data to each specific school that reported at least 1 covid case in the 2020-2021 year.  This will also put the max case counts per school in the same table so that we can visualize our answer to the question."
   ]
  },
  {
   "cell_type": "markdown",
   "id": "e5bd2947",
   "metadata": {},
   "source": [
    "However, one of the keys is a float and the other is an object.  I will have to cast the object to a numeric"
   ]
  },
  {
   "cell_type": "code",
   "execution_count": 69,
   "id": "8d86c6e8",
   "metadata": {},
   "outputs": [
    {
     "data": {
      "text/plain": [
       "Board Number        object\n",
       "Board Name          object\n",
       "School Number      float64\n",
       "School Name         object\n",
       "School Level        object\n",
       "School Type         object\n",
       "School Language     object\n",
       "Enrolment            int64\n",
       "dtype: object"
      ]
     },
     "execution_count": 69,
     "metadata": {},
     "output_type": "execute_result"
    }
   ],
   "source": [
    "enrolment_info.dtypes"
   ]
  },
  {
   "cell_type": "code",
   "execution_count": 70,
   "id": "7150344e",
   "metadata": {},
   "outputs": [
    {
     "data": {
      "text/plain": [
       "school_id                         object\n",
       "Highest_Covid_Cases_In_One_Day     int64\n",
       "dtype: object"
      ]
     },
     "execution_count": 70,
     "metadata": {},
     "output_type": "execute_result"
    }
   ],
   "source": [
    "MaxCases.dtypes"
   ]
  },
  {
   "cell_type": "markdown",
   "id": "a55f2ef2",
   "metadata": {},
   "source": [
    "I now also have to deal with the school_ids that start with B.  I thought they would be discarded with this merge but I need to get rid of them first so I can cast the column to numeric before I can use the column as a key.  Remember - these are not schools but board offices.  So let's get rid of them."
   ]
  },
  {
   "cell_type": "code",
   "execution_count": 73,
   "id": "b8a9032c",
   "metadata": {},
   "outputs": [],
   "source": [
    "# creating a dataframe that does not have rows in 'school_id' with values starting with B\n",
    "MaxCasesFinal = MaxCases[~MaxCases.school_id.str.startswith('B')]"
   ]
  },
  {
   "cell_type": "code",
   "execution_count": 74,
   "id": "61ea0e10",
   "metadata": {},
   "outputs": [
    {
     "data": {
      "text/html": [
       "<div>\n",
       "<style scoped>\n",
       "    .dataframe tbody tr th:only-of-type {\n",
       "        vertical-align: middle;\n",
       "    }\n",
       "\n",
       "    .dataframe tbody tr th {\n",
       "        vertical-align: top;\n",
       "    }\n",
       "\n",
       "    .dataframe thead th {\n",
       "        text-align: right;\n",
       "    }\n",
       "</style>\n",
       "<table border=\"1\" class=\"dataframe\">\n",
       "  <thead>\n",
       "    <tr style=\"text-align: right;\">\n",
       "      <th></th>\n",
       "      <th>school_id</th>\n",
       "      <th>Highest_Covid_Cases_In_One_Day</th>\n",
       "    </tr>\n",
       "  </thead>\n",
       "  <tbody>\n",
       "    <tr>\n",
       "      <th>0</th>\n",
       "      <td>0</td>\n",
       "      <td>4</td>\n",
       "    </tr>\n",
       "    <tr>\n",
       "      <th>1</th>\n",
       "      <td>000000</td>\n",
       "      <td>1</td>\n",
       "    </tr>\n",
       "    <tr>\n",
       "      <th>2</th>\n",
       "      <td>000078</td>\n",
       "      <td>5</td>\n",
       "    </tr>\n",
       "    <tr>\n",
       "      <th>3</th>\n",
       "      <td>000469</td>\n",
       "      <td>2</td>\n",
       "    </tr>\n",
       "    <tr>\n",
       "      <th>4</th>\n",
       "      <td>000566</td>\n",
       "      <td>1</td>\n",
       "    </tr>\n",
       "    <tr>\n",
       "      <th>...</th>\n",
       "      <td>...</td>\n",
       "      <td>...</td>\n",
       "    </tr>\n",
       "    <tr>\n",
       "      <th>3206</th>\n",
       "      <td>997579</td>\n",
       "      <td>1</td>\n",
       "    </tr>\n",
       "    <tr>\n",
       "      <th>3207</th>\n",
       "      <td>997587</td>\n",
       "      <td>2</td>\n",
       "    </tr>\n",
       "    <tr>\n",
       "      <th>3208</th>\n",
       "      <td>997625</td>\n",
       "      <td>1</td>\n",
       "    </tr>\n",
       "    <tr>\n",
       "      <th>3209</th>\n",
       "      <td>997676</td>\n",
       "      <td>2</td>\n",
       "    </tr>\n",
       "    <tr>\n",
       "      <th>3210</th>\n",
       "      <td>999920</td>\n",
       "      <td>2</td>\n",
       "    </tr>\n",
       "  </tbody>\n",
       "</table>\n",
       "<p>3211 rows × 2 columns</p>\n",
       "</div>"
      ],
      "text/plain": [
       "     school_id  Highest_Covid_Cases_In_One_Day\n",
       "0            0                               4\n",
       "1       000000                               1\n",
       "2       000078                               5\n",
       "3       000469                               2\n",
       "4       000566                               1\n",
       "...        ...                             ...\n",
       "3206    997579                               1\n",
       "3207    997587                               2\n",
       "3208    997625                               1\n",
       "3209    997676                               2\n",
       "3210    999920                               2\n",
       "\n",
       "[3211 rows x 2 columns]"
      ]
     },
     "execution_count": 74,
     "metadata": {},
     "output_type": "execute_result"
    }
   ],
   "source": [
    "# Checking to see if we got rid of the rows that start with B on school_id\n",
    "MaxCasesFinal"
   ]
  },
  {
   "cell_type": "code",
   "execution_count": 79,
   "id": "b9acb3f9",
   "metadata": {},
   "outputs": [
    {
     "data": {
      "text/plain": [
       "0            0\n",
       "1            0\n",
       "2           78\n",
       "3          469\n",
       "4          566\n",
       "         ...  \n",
       "3206    997579\n",
       "3207    997587\n",
       "3208    997625\n",
       "3209    997676\n",
       "3210    999920\n",
       "Name: school_id, Length: 3211, dtype: int64"
      ]
     },
     "execution_count": 79,
     "metadata": {},
     "output_type": "execute_result"
    }
   ],
   "source": [
    "# Casting 'school_id' to numeric so we can enable it as the key in our merge\n",
    "pd.to_numeric(MaxCasesFinal['school_id'])"
   ]
  },
  {
   "cell_type": "code",
   "execution_count": 80,
   "id": "6d7f52a8",
   "metadata": {},
   "outputs": [
    {
     "data": {
      "text/plain": [
       "school_id                         int64\n",
       "Highest_Covid_Cases_In_One_Day    int64\n",
       "dtype: object"
      ]
     },
     "execution_count": 80,
     "metadata": {},
     "output_type": "execute_result"
    }
   ],
   "source": [
    "# Checking if this changed the dtype for that column\n",
    "MaxCasesFinal.dtypes"
   ]
  },
  {
   "cell_type": "code",
   "execution_count": 81,
   "id": "59177e4e",
   "metadata": {},
   "outputs": [],
   "source": [
    "# Merging the 2 transformed datasets\n",
    "MergedData = pd.merge(enrolment_info, MaxCasesFinal, left_on = 'School Number', right_on = 'school_id', how = 'inner')"
   ]
  },
  {
   "cell_type": "code",
   "execution_count": 82,
   "id": "24434443",
   "metadata": {},
   "outputs": [
    {
     "data": {
      "text/html": [
       "<div>\n",
       "<style scoped>\n",
       "    .dataframe tbody tr th:only-of-type {\n",
       "        vertical-align: middle;\n",
       "    }\n",
       "\n",
       "    .dataframe tbody tr th {\n",
       "        vertical-align: top;\n",
       "    }\n",
       "\n",
       "    .dataframe thead th {\n",
       "        text-align: right;\n",
       "    }\n",
       "</style>\n",
       "<table border=\"1\" class=\"dataframe\">\n",
       "  <thead>\n",
       "    <tr style=\"text-align: right;\">\n",
       "      <th></th>\n",
       "      <th>Board Number</th>\n",
       "      <th>Board Name</th>\n",
       "      <th>School Number</th>\n",
       "      <th>School Name</th>\n",
       "      <th>School Level</th>\n",
       "      <th>School Type</th>\n",
       "      <th>School Language</th>\n",
       "      <th>Enrolment</th>\n",
       "      <th>school_id</th>\n",
       "      <th>Highest_Covid_Cases_In_One_Day</th>\n",
       "    </tr>\n",
       "  </thead>\n",
       "  <tbody>\n",
       "    <tr>\n",
       "      <th>0</th>\n",
       "      <td>B28010</td>\n",
       "      <td>Algoma DSB</td>\n",
       "      <td>54542.0</td>\n",
       "      <td>Blind River PS</td>\n",
       "      <td>Elementary</td>\n",
       "      <td>Public</td>\n",
       "      <td>English</td>\n",
       "      <td>175</td>\n",
       "      <td>54542</td>\n",
       "      <td>2</td>\n",
       "    </tr>\n",
       "    <tr>\n",
       "      <th>1</th>\n",
       "      <td>B28010</td>\n",
       "      <td>Algoma DSB</td>\n",
       "      <td>891347.0</td>\n",
       "      <td>Central Algoma SS</td>\n",
       "      <td>Secondary</td>\n",
       "      <td>Public</td>\n",
       "      <td>English</td>\n",
       "      <td>340</td>\n",
       "      <td>891347</td>\n",
       "      <td>3</td>\n",
       "    </tr>\n",
       "    <tr>\n",
       "      <th>2</th>\n",
       "      <td>B28010</td>\n",
       "      <td>Algoma DSB</td>\n",
       "      <td>202614.0</td>\n",
       "      <td>Francis H Clergue PS</td>\n",
       "      <td>Elementary</td>\n",
       "      <td>Public</td>\n",
       "      <td>English</td>\n",
       "      <td>550</td>\n",
       "      <td>202614</td>\n",
       "      <td>1</td>\n",
       "    </tr>\n",
       "    <tr>\n",
       "      <th>3</th>\n",
       "      <td>B28010</td>\n",
       "      <td>Algoma DSB</td>\n",
       "      <td>920533.0</td>\n",
       "      <td>Korah C &amp; VS</td>\n",
       "      <td>Secondary</td>\n",
       "      <td>Public</td>\n",
       "      <td>English</td>\n",
       "      <td>865</td>\n",
       "      <td>920533</td>\n",
       "      <td>1</td>\n",
       "    </tr>\n",
       "    <tr>\n",
       "      <th>4</th>\n",
       "      <td>B28010</td>\n",
       "      <td>Algoma DSB</td>\n",
       "      <td>468339.0</td>\n",
       "      <td>R M Moore PS</td>\n",
       "      <td>Elementary</td>\n",
       "      <td>Public</td>\n",
       "      <td>English</td>\n",
       "      <td>270</td>\n",
       "      <td>468339</td>\n",
       "      <td>1</td>\n",
       "    </tr>\n",
       "    <tr>\n",
       "      <th>...</th>\n",
       "      <td>...</td>\n",
       "      <td>...</td>\n",
       "      <td>...</td>\n",
       "      <td>...</td>\n",
       "      <td>...</td>\n",
       "      <td>...</td>\n",
       "      <td>...</td>\n",
       "      <td>...</td>\n",
       "      <td>...</td>\n",
       "      <td>...</td>\n",
       "    </tr>\n",
       "    <tr>\n",
       "      <th>3161</th>\n",
       "      <td>B66095</td>\n",
       "      <td>York Region DSB</td>\n",
       "      <td>549380.0</td>\n",
       "      <td>Wismer PS</td>\n",
       "      <td>Elementary</td>\n",
       "      <td>Public</td>\n",
       "      <td>English</td>\n",
       "      <td>665</td>\n",
       "      <td>549380</td>\n",
       "      <td>1</td>\n",
       "    </tr>\n",
       "    <tr>\n",
       "      <th>3162</th>\n",
       "      <td>B66095</td>\n",
       "      <td>York Region DSB</td>\n",
       "      <td>954292.0</td>\n",
       "      <td>Woodbridge College</td>\n",
       "      <td>Secondary</td>\n",
       "      <td>Public</td>\n",
       "      <td>English</td>\n",
       "      <td>515</td>\n",
       "      <td>954292</td>\n",
       "      <td>27</td>\n",
       "    </tr>\n",
       "    <tr>\n",
       "      <th>3163</th>\n",
       "      <td>B66095</td>\n",
       "      <td>York Region DSB</td>\n",
       "      <td>617318.0</td>\n",
       "      <td>Woodbridge PS</td>\n",
       "      <td>Elementary</td>\n",
       "      <td>Public</td>\n",
       "      <td>English</td>\n",
       "      <td>490</td>\n",
       "      <td>617318</td>\n",
       "      <td>4</td>\n",
       "    </tr>\n",
       "    <tr>\n",
       "      <th>3164</th>\n",
       "      <td>B66095</td>\n",
       "      <td>York Region DSB</td>\n",
       "      <td>618896.0</td>\n",
       "      <td>Woodland PS</td>\n",
       "      <td>Elementary</td>\n",
       "      <td>Public</td>\n",
       "      <td>English</td>\n",
       "      <td>260</td>\n",
       "      <td>618896</td>\n",
       "      <td>3</td>\n",
       "    </tr>\n",
       "    <tr>\n",
       "      <th>3165</th>\n",
       "      <td>B66095</td>\n",
       "      <td>York Region DSB</td>\n",
       "      <td>624101.0</td>\n",
       "      <td>Yorkhill E S</td>\n",
       "      <td>Elementary</td>\n",
       "      <td>Public</td>\n",
       "      <td>English</td>\n",
       "      <td>405</td>\n",
       "      <td>624101</td>\n",
       "      <td>1</td>\n",
       "    </tr>\n",
       "  </tbody>\n",
       "</table>\n",
       "<p>3166 rows × 10 columns</p>\n",
       "</div>"
      ],
      "text/plain": [
       "     Board Number       Board Name  School Number           School Name  \\\n",
       "0          B28010       Algoma DSB        54542.0        Blind River PS   \n",
       "1          B28010       Algoma DSB       891347.0     Central Algoma SS   \n",
       "2          B28010       Algoma DSB       202614.0  Francis H Clergue PS   \n",
       "3          B28010       Algoma DSB       920533.0          Korah C & VS   \n",
       "4          B28010       Algoma DSB       468339.0          R M Moore PS   \n",
       "...           ...              ...            ...                   ...   \n",
       "3161       B66095  York Region DSB       549380.0             Wismer PS   \n",
       "3162       B66095  York Region DSB       954292.0    Woodbridge College   \n",
       "3163       B66095  York Region DSB       617318.0         Woodbridge PS   \n",
       "3164       B66095  York Region DSB       618896.0           Woodland PS   \n",
       "3165       B66095  York Region DSB       624101.0          Yorkhill E S   \n",
       "\n",
       "     School Level School Type School Language  Enrolment  school_id  \\\n",
       "0      Elementary      Public         English        175      54542   \n",
       "1       Secondary      Public         English        340     891347   \n",
       "2      Elementary      Public         English        550     202614   \n",
       "3       Secondary      Public         English        865     920533   \n",
       "4      Elementary      Public         English        270     468339   \n",
       "...           ...         ...             ...        ...        ...   \n",
       "3161   Elementary      Public         English        665     549380   \n",
       "3162    Secondary      Public         English        515     954292   \n",
       "3163   Elementary      Public         English        490     617318   \n",
       "3164   Elementary      Public         English        260     618896   \n",
       "3165   Elementary      Public         English        405     624101   \n",
       "\n",
       "      Highest_Covid_Cases_In_One_Day  \n",
       "0                                  2  \n",
       "1                                  3  \n",
       "2                                  1  \n",
       "3                                  1  \n",
       "4                                  1  \n",
       "...                              ...  \n",
       "3161                               1  \n",
       "3162                              27  \n",
       "3163                               4  \n",
       "3164                               3  \n",
       "3165                               1  \n",
       "\n",
       "[3166 rows x 10 columns]"
      ]
     },
     "execution_count": 82,
     "metadata": {},
     "output_type": "execute_result"
    }
   ],
   "source": [
    "MergedData"
   ]
  },
  {
   "cell_type": "code",
   "execution_count": 83,
   "id": "c9e0ddd9",
   "metadata": {},
   "outputs": [
    {
     "data": {
      "text/plain": [
       "Board Number                      False\n",
       "Board Name                        False\n",
       "School Number                     False\n",
       "School Name                       False\n",
       "School Level                      False\n",
       "School Type                       False\n",
       "School Language                   False\n",
       "Enrolment                         False\n",
       "school_id                         False\n",
       "Highest_Covid_Cases_In_One_Day    False\n",
       "dtype: bool"
      ]
     },
     "execution_count": 83,
     "metadata": {},
     "output_type": "execute_result"
    }
   ],
   "source": [
    "# Checking to see if there are any missing values in this MergedData\n",
    "MergedData.isna().any()"
   ]
  },
  {
   "cell_type": "markdown",
   "id": "10dcb9b8",
   "metadata": {},
   "source": [
    "No missing values.  So we're good to go.\n",
    "\n",
    "Let’s call on seaborn for some visualizations to answer the question:"
   ]
  },
  {
   "cell_type": "markdown",
   "id": "7be96167",
   "metadata": {},
   "source": [
    "## Does High Enrolment correlate with Higher Number of Covid Cases in Ontario Schools?"
   ]
  },
  {
   "cell_type": "code",
   "execution_count": 87,
   "id": "7a7a7b07",
   "metadata": {},
   "outputs": [],
   "source": [
    "# Importing Seaborn and matplotlib libraries so we can create graphs\n",
    "import matplotlib.pyplot as plt\n",
    "import seaborn as sns"
   ]
  },
  {
   "cell_type": "code",
   "execution_count": 151,
   "id": "a242833b",
   "metadata": {},
   "outputs": [
    {
     "data": {
      "text/plain": [
       "Text(0, 0.5, 'Highest_Covid_Cases_In_One_Day per School')"
      ]
     },
     "execution_count": 151,
     "metadata": {},
     "output_type": "execute_result"
    },
    {
     "data": {
      "image/png": "[encoded data removed]",
      "text/plain": [
       "<Figure size 1080x576 with 1 Axes>"
      ]
     },
     "metadata": {
      "needs_background": "light"
     },
     "output_type": "display_data"
    }
   ],
   "source": [
    "# Creating a graph with figure size specified\n",
    "plt.figure(figsize=(15,8))\n",
    "# Asking seaborn to create a scatterplot with axis and hues specific to our desired columns.  \n",
    "# And then naming that scatterplot as 'p'\n",
    "p = sns.scatterplot(data=MergedData, x='Enrolment', y='Highest_Covid_Cases_In_One_Day', hue='School Level')\n",
    "\n",
    "# setting the labels, title and font sizes that appear in the scatterplot\n",
    "p.set_title(\"Ontario Public Schools\", fontsize = 24)\n",
    "p.set_xlabel(\"School Enrollment\", fontsize = 14)\n",
    "p.set_ylabel(\"Highest_Covid_Cases_In_One_Day per School\", fontsize = 14)"
   ]
  },
  {
   "cell_type": "markdown",
   "id": "77267feb",
   "metadata": {},
   "source": [
    "## ANSWER: \n",
    "### The scatterplot above shows that there is no correlation between high enrolment and high covid case counts in Ontario Schools"
   ]
  },
  {
   "cell_type": "code",
   "execution_count": 154,
   "id": "35ced7ef",
   "metadata": {},
   "outputs": [
    {
     "data": {
      "text/plain": [
       "<seaborn.axisgrid.FacetGrid at 0x7f8aef772640>"
      ]
     },
     "execution_count": 154,
     "metadata": {},
     "output_type": "execute_result"
    },
    {
     "data": {
      "text/plain": [
       "<Figure size 1080x576 with 0 Axes>"
      ]
     },
     "metadata": {},
     "output_type": "display_data"
    },
    {
     "data": {
      "image/png": "[encoded data removed]",
      "text/plain": [
       "<Figure size 720x360 with 2 Axes>"
      ]
     },
     "metadata": {
      "needs_background": "light"
     },
     "output_type": "display_data"
    }
   ],
   "source": [
    "# Creating a graph with figure size specified\n",
    "plt.figure(figsize=(15,8))\n",
    "# Asking seaborn to create a relational plot comparing Elementary and Secondary as 2 separate graphs with the same x and y columns\n",
    "# And then naming the relational plot as 'rp'\n",
    "rp = sns.relplot(data=MergedData, x='Enrolment', y='Highest_Covid_Cases_In_One_Day', col='School Level', kind='scatter')\n",
    "\n",
    "# setting the labels and title\n",
    "rp.set_xlabels(\"School Enrollment\")\n",
    "rp.set_ylabels(\"Highest_Covid_Cases_In_One_Day per School\")"
   ]
  },
  {
   "cell_type": "markdown",
   "id": "6b072fed",
   "metadata": {},
   "source": [
    "### There is no correlation between high enrolment and high covid case counts, not even if you break it down by elementary and secondary schools as visualized by the relational plot above\n",
    "\n",
    "These graphs show that most schools that had Covid cases had under 10 max cases in one day, regardless of their enrolment size.\n",
    "\n",
    "The elementary school with the highest enrolment in the province reported only the 2nd highest case count in one day in an elementary school (3rd highest overall if you also take high schools into account).  And the school with the highest enrolment overall only had 3 cases as their max in one day.\n",
    "\n",
    "Meanwhile, extremely high case counts in one day (outliers) are in schools with low, average and high enrolment numbers (the full range).  "
   ]
  },
  {
   "cell_type": "markdown",
   "id": "5bfad2ad",
   "metadata": {},
   "source": [
    "### The Outliers - Investigating Further\n",
    "\n",
    "These graphs show outliers very clearly.  Let's see which schools these are"
   ]
  },
  {
   "cell_type": "code",
   "execution_count": 95,
   "id": "ec3d9e84",
   "metadata": {},
   "outputs": [],
   "source": [
    "# Dropping the column 'Board Number' since the column \"Board Name\" gives us this information in a better way\n",
    "MergedData.drop(MergedData.columns[0], axis=1, inplace=True)"
   ]
  },
  {
   "cell_type": "code",
   "execution_count": 96,
   "id": "649af245",
   "metadata": {},
   "outputs": [
    {
     "data": {
      "text/html": [
       "<div>\n",
       "<style scoped>\n",
       "    .dataframe tbody tr th:only-of-type {\n",
       "        vertical-align: middle;\n",
       "    }\n",
       "\n",
       "    .dataframe tbody tr th {\n",
       "        vertical-align: top;\n",
       "    }\n",
       "\n",
       "    .dataframe thead th {\n",
       "        text-align: right;\n",
       "    }\n",
       "</style>\n",
       "<table border=\"1\" class=\"dataframe\">\n",
       "  <thead>\n",
       "    <tr style=\"text-align: right;\">\n",
       "      <th></th>\n",
       "      <th>Board Name</th>\n",
       "      <th>School Number</th>\n",
       "      <th>School Name</th>\n",
       "      <th>School Level</th>\n",
       "      <th>School Type</th>\n",
       "      <th>School Language</th>\n",
       "      <th>Enrolment</th>\n",
       "      <th>school_id</th>\n",
       "      <th>Highest_Covid_Cases_In_One_Day</th>\n",
       "    </tr>\n",
       "  </thead>\n",
       "  <tbody>\n",
       "    <tr>\n",
       "      <th>719</th>\n",
       "      <td>Greater Essex County DSB</td>\n",
       "      <td>203009.0</td>\n",
       "      <td>Frank W Begley PS</td>\n",
       "      <td>Elementary</td>\n",
       "      <td>Public</td>\n",
       "      <td>English</td>\n",
       "      <td>535</td>\n",
       "      <td>203009</td>\n",
       "      <td>48</td>\n",
       "    </tr>\n",
       "    <tr>\n",
       "      <th>2565</th>\n",
       "      <td>Toronto DSB</td>\n",
       "      <td>949027.0</td>\n",
       "      <td>Ursula Franklin Academy</td>\n",
       "      <td>Secondary</td>\n",
       "      <td>Public</td>\n",
       "      <td>English</td>\n",
       "      <td>520</td>\n",
       "      <td>949027</td>\n",
       "      <td>34</td>\n",
       "    </tr>\n",
       "    <tr>\n",
       "      <th>2558</th>\n",
       "      <td>Toronto DSB</td>\n",
       "      <td>552704.0</td>\n",
       "      <td>Thorncliffe Park PS</td>\n",
       "      <td>Elementary</td>\n",
       "      <td>Public</td>\n",
       "      <td>English</td>\n",
       "      <td>1400</td>\n",
       "      <td>552704</td>\n",
       "      <td>32</td>\n",
       "    </tr>\n",
       "    <tr>\n",
       "      <th>3162</th>\n",
       "      <td>York Region DSB</td>\n",
       "      <td>954292.0</td>\n",
       "      <td>Woodbridge College</td>\n",
       "      <td>Secondary</td>\n",
       "      <td>Public</td>\n",
       "      <td>English</td>\n",
       "      <td>515</td>\n",
       "      <td>954292</td>\n",
       "      <td>27</td>\n",
       "    </tr>\n",
       "    <tr>\n",
       "      <th>2163</th>\n",
       "      <td>Toronto DSB</td>\n",
       "      <td>56367.0</td>\n",
       "      <td>Bowmore Road Jr &amp; Sr PS</td>\n",
       "      <td>Elementary</td>\n",
       "      <td>Public</td>\n",
       "      <td>English</td>\n",
       "      <td>1060</td>\n",
       "      <td>56367</td>\n",
       "      <td>26</td>\n",
       "    </tr>\n",
       "    <tr>\n",
       "      <th>2424</th>\n",
       "      <td>Toronto DSB</td>\n",
       "      <td>933198.0</td>\n",
       "      <td>Marc Garneau CI</td>\n",
       "      <td>Secondary</td>\n",
       "      <td>Public</td>\n",
       "      <td>English</td>\n",
       "      <td>1785</td>\n",
       "      <td>933198</td>\n",
       "      <td>23</td>\n",
       "    </tr>\n",
       "    <tr>\n",
       "      <th>1127</th>\n",
       "      <td>Lambton Kent DSB</td>\n",
       "      <td>910228.0</td>\n",
       "      <td>North Lambton SS</td>\n",
       "      <td>Secondary</td>\n",
       "      <td>Public</td>\n",
       "      <td>English</td>\n",
       "      <td>515</td>\n",
       "      <td>910228</td>\n",
       "      <td>22</td>\n",
       "    </tr>\n",
       "    <tr>\n",
       "      <th>2122</th>\n",
       "      <td>Toronto DSB</td>\n",
       "      <td>901908.0</td>\n",
       "      <td>ALPHA II Alternative S</td>\n",
       "      <td>Secondary</td>\n",
       "      <td>Public</td>\n",
       "      <td>English</td>\n",
       "      <td>30</td>\n",
       "      <td>901908</td>\n",
       "      <td>22</td>\n",
       "    </tr>\n",
       "    <tr>\n",
       "      <th>2205</th>\n",
       "      <td>Toronto DSB</td>\n",
       "      <td>107190.0</td>\n",
       "      <td>Church Street Jr PS</td>\n",
       "      <td>Elementary</td>\n",
       "      <td>Public</td>\n",
       "      <td>English</td>\n",
       "      <td>415</td>\n",
       "      <td>107190</td>\n",
       "      <td>20</td>\n",
       "    </tr>\n",
       "    <tr>\n",
       "      <th>620</th>\n",
       "      <td>Durham DSB</td>\n",
       "      <td>935310.0</td>\n",
       "      <td>Pickering HS</td>\n",
       "      <td>Secondary</td>\n",
       "      <td>Public</td>\n",
       "      <td>English</td>\n",
       "      <td>1840</td>\n",
       "      <td>935310</td>\n",
       "      <td>19</td>\n",
       "    </tr>\n",
       "  </tbody>\n",
       "</table>\n",
       "</div>"
      ],
      "text/plain": [
       "                    Board Name  School Number              School Name  \\\n",
       "719   Greater Essex County DSB       203009.0        Frank W Begley PS   \n",
       "2565               Toronto DSB       949027.0  Ursula Franklin Academy   \n",
       "2558               Toronto DSB       552704.0      Thorncliffe Park PS   \n",
       "3162           York Region DSB       954292.0       Woodbridge College   \n",
       "2163               Toronto DSB        56367.0  Bowmore Road Jr & Sr PS   \n",
       "2424               Toronto DSB       933198.0          Marc Garneau CI   \n",
       "1127          Lambton Kent DSB       910228.0         North Lambton SS   \n",
       "2122               Toronto DSB       901908.0   ALPHA II Alternative S   \n",
       "2205               Toronto DSB       107190.0      Church Street Jr PS   \n",
       "620                 Durham DSB       935310.0             Pickering HS   \n",
       "\n",
       "     School Level School Type School Language  Enrolment  school_id  \\\n",
       "719    Elementary      Public         English        535     203009   \n",
       "2565    Secondary      Public         English        520     949027   \n",
       "2558   Elementary      Public         English       1400     552704   \n",
       "3162    Secondary      Public         English        515     954292   \n",
       "2163   Elementary      Public         English       1060      56367   \n",
       "2424    Secondary      Public         English       1785     933198   \n",
       "1127    Secondary      Public         English        515     910228   \n",
       "2122    Secondary      Public         English         30     901908   \n",
       "2205   Elementary      Public         English        415     107190   \n",
       "620     Secondary      Public         English       1840     935310   \n",
       "\n",
       "      Highest_Covid_Cases_In_One_Day  \n",
       "719                               48  \n",
       "2565                              34  \n",
       "2558                              32  \n",
       "3162                              27  \n",
       "2163                              26  \n",
       "2424                              23  \n",
       "1127                              22  \n",
       "2122                              22  \n",
       "2205                              20  \n",
       "620                               19  "
      ]
     },
     "execution_count": 96,
     "metadata": {},
     "output_type": "execute_result"
    }
   ],
   "source": [
    "# Pulling up the top 10 schools with the highest covid cases in one day\n",
    "MergedData.sort_values(by='Highest_Covid_Cases_In_One_Day', ascending=False).head(10)"
   ]
  },
  {
   "cell_type": "markdown",
   "id": "d952fabc",
   "metadata": {},
   "source": [
    "The sorted dataframe above showing which schools have the highest case counts in one day can also be annotated in the original scatterplot.  This visualization has more impact than the dataframe.  See below:"
   ]
  },
  {
   "cell_type": "code",
   "execution_count": 153,
   "id": "8c39bd1d",
   "metadata": {},
   "outputs": [
    {
     "data": {
      "text/plain": [
       "Text(1855, 19, 'Pickering HS (Durham DSB)')"
      ]
     },
     "execution_count": 153,
     "metadata": {},
     "output_type": "execute_result"
    },
    {
     "data": {
      "image/png": "[encoded data removed]",
      "text/plain": [
       "<Figure size 1080x576 with 1 Axes>"
      ]
     },
     "metadata": {
      "needs_background": "light"
     },
     "output_type": "display_data"
    }
   ],
   "source": [
    "# Creating a graph with figure size specified\n",
    "plt.figure(figsize=(15,8))\n",
    "# Asking seaborn to create a scatterplot with axis and hues specific to our desired columns.  \n",
    "# And then naming that scatterplot as 'p'\n",
    "p = sns.scatterplot(data=MergedData, x='Enrolment', y='Highest_Covid_Cases_In_One_Day', hue='School Level')\n",
    "\n",
    "# setting the labels, title and font sizes that appear in the scatterplot\n",
    "p.set_title(\"Ontario Public Schools\", fontsize = 24)\n",
    "p.set_xlabel(\"School Enrollment\", fontsize = 14)\n",
    "p.set_ylabel(\"Highest_Covid_Cases_In_One_Day per School\", fontsize = 14)\n",
    "\n",
    "# Annotate with text + Arrow\n",
    "plt.annotate(\n",
    "# Label and coordinate\n",
    "'Frank W Begley PS (Greater Essex County DSB)', xy=(535, 48), xytext=(550, 48))\n",
    "plt.annotate('Ursula Franklin Academy (Toronto DSB)', xy=(520, 34), xytext=(535, 34))\n",
    "plt.annotate('Thorncliffe Park PS (Toronto DSB)', xy=(1400, 32), xytext=(1415, 32))\n",
    "plt.annotate('Woodbrigde College (York Region DSB)', xy=(515, 27), xytext=(530, 27))\n",
    "plt.annotate('Bowmore Road Jr & Sr PS (Toronto DSB)', xy=(1060, 26), xytext=(1075,25))\n",
    "plt.annotate('Marc Garneau CI (Toronto DSB)', xy=(1785, 23), xytext=(1800,23))\n",
    "plt.annotate('North Lambton SS (Lambton Kent DSB)', xy=(515, 22), xytext=(530,22))\n",
    "plt.annotate('ALPHA II Alternative S (Toronto DSB)', xy=(30, 22), xytext=(0,23))\n",
    "plt.annotate('Church Street Jr PS (Toronto DSB)', xy=(415, 20), xytext=(430,20))\n",
    "plt.annotate('Pickering HS (Durham DSB)', xy=(1840, 19), xytext=(1855,19))"
   ]
  },
  {
   "cell_type": "markdown",
   "id": "d1f28b17",
   "metadata": {},
   "source": [
    "The outliers are a mix of elementary and secondary schools and are from different school boards (although the Toronto District School Board appears 6 times in the top 10.  But that’s because the Toronto District School Board has the most number of schools in the province).\n",
    "\n",
    "I am still curious about the biggest outlier - Frank W Begley PS, which had 48 cases in one day.  Looking at this school in google maps, it is in Windsor, directly across the river from Detroit.  You can swim it.   This makes me wonder if frequent cross border travel to the US which had surging numbers early in the pandemic, leads to higher risk of infection.\n",
    "\n",
    "However, from the graph, none of the other schools in the same school board even show up in the top 10.  So there is clearly something more in play here than just enrollment numbers and geographical location of the school."
   ]
  },
  {
   "cell_type": "markdown",
   "id": "fd07c8b2",
   "metadata": {},
   "source": [
    "### Regression Model\n",
    "Let’s see if this model will yield any sort of result, simply because I can.  However, after proving my hypothesis wrong already, I know that a Regression model is probably not going to be any good here.  "
   ]
  },
  {
   "cell_type": "code",
   "execution_count": 99,
   "id": "66a8cea2",
   "metadata": {},
   "outputs": [],
   "source": [
    "# Importing the numpy and statsmodels libraries to create a linear regression model\n",
    "import numpy as np\n",
    "import statsmodels.api as sm\n",
    "\n",
    "# Creating a column of 1's in our dataframe to act as a constant.  We will name this column 'intercept'\n",
    "MergedData['intercept'] = np.ones((MergedData.shape[0],))"
   ]
  },
  {
   "cell_type": "code",
   "execution_count": 101,
   "id": "6e0a4d2f",
   "metadata": {},
   "outputs": [
    {
     "data": {
      "text/html": [
       "<div>\n",
       "<style scoped>\n",
       "    .dataframe tbody tr th:only-of-type {\n",
       "        vertical-align: middle;\n",
       "    }\n",
       "\n",
       "    .dataframe tbody tr th {\n",
       "        vertical-align: top;\n",
       "    }\n",
       "\n",
       "    .dataframe thead th {\n",
       "        text-align: right;\n",
       "    }\n",
       "</style>\n",
       "<table border=\"1\" class=\"dataframe\">\n",
       "  <thead>\n",
       "    <tr style=\"text-align: right;\">\n",
       "      <th></th>\n",
       "      <th>Board Name</th>\n",
       "      <th>School Number</th>\n",
       "      <th>School Name</th>\n",
       "      <th>School Level</th>\n",
       "      <th>School Type</th>\n",
       "      <th>School Language</th>\n",
       "      <th>Enrolment</th>\n",
       "      <th>school_id</th>\n",
       "      <th>Highest_Covid_Cases_In_One_Day</th>\n",
       "      <th>intercept</th>\n",
       "    </tr>\n",
       "  </thead>\n",
       "  <tbody>\n",
       "    <tr>\n",
       "      <th>0</th>\n",
       "      <td>Algoma DSB</td>\n",
       "      <td>54542.0</td>\n",
       "      <td>Blind River PS</td>\n",
       "      <td>Elementary</td>\n",
       "      <td>Public</td>\n",
       "      <td>English</td>\n",
       "      <td>175</td>\n",
       "      <td>54542</td>\n",
       "      <td>2</td>\n",
       "      <td>1.0</td>\n",
       "    </tr>\n",
       "    <tr>\n",
       "      <th>1</th>\n",
       "      <td>Algoma DSB</td>\n",
       "      <td>891347.0</td>\n",
       "      <td>Central Algoma SS</td>\n",
       "      <td>Secondary</td>\n",
       "      <td>Public</td>\n",
       "      <td>English</td>\n",
       "      <td>340</td>\n",
       "      <td>891347</td>\n",
       "      <td>3</td>\n",
       "      <td>1.0</td>\n",
       "    </tr>\n",
       "  </tbody>\n",
       "</table>\n",
       "</div>"
      ],
      "text/plain": [
       "   Board Name  School Number        School Name School Level School Type  \\\n",
       "0  Algoma DSB        54542.0     Blind River PS   Elementary      Public   \n",
       "1  Algoma DSB       891347.0  Central Algoma SS    Secondary      Public   \n",
       "\n",
       "  School Language  Enrolment  school_id  Highest_Covid_Cases_In_One_Day  \\\n",
       "0         English        175      54542                               2   \n",
       "1         English        340     891347                               3   \n",
       "\n",
       "   intercept  \n",
       "0        1.0  \n",
       "1        1.0  "
      ]
     },
     "execution_count": 101,
     "metadata": {},
     "output_type": "execute_result"
    }
   ],
   "source": [
    "# Checking to see if the 'intercept' column has been added\n",
    "MergedData.head(2)"
   ]
  },
  {
   "cell_type": "markdown",
   "id": "a02de8af",
   "metadata": {},
   "source": [
    "I need to separate my dependent variable column ('Highest_Covid_Cases_In_One_Day') from my independent variable columns ('School Level', 'School Type', 'School Language', 'Enrolment', 'Intercept').  "
   ]
  },
  {
   "cell_type": "code",
   "execution_count": 109,
   "id": "8f6c44fc",
   "metadata": {},
   "outputs": [],
   "source": [
    "# Re-ordering my columns\n",
    "MergedDataReordered = MergedData[['Highest_Covid_Cases_In_One_Day', 'intercept', 'Board Name', 'School Number', 'School Name', 'School Level', 'School Type', 'School Language', 'Enrolment', 'school_id']]"
   ]
  },
  {
   "cell_type": "code",
   "execution_count": 111,
   "id": "97c41c10",
   "metadata": {},
   "outputs": [
    {
     "data": {
      "text/html": [
       "<div>\n",
       "<style scoped>\n",
       "    .dataframe tbody tr th:only-of-type {\n",
       "        vertical-align: middle;\n",
       "    }\n",
       "\n",
       "    .dataframe tbody tr th {\n",
       "        vertical-align: top;\n",
       "    }\n",
       "\n",
       "    .dataframe thead th {\n",
       "        text-align: right;\n",
       "    }\n",
       "</style>\n",
       "<table border=\"1\" class=\"dataframe\">\n",
       "  <thead>\n",
       "    <tr style=\"text-align: right;\">\n",
       "      <th></th>\n",
       "      <th>Highest_Covid_Cases_In_One_Day</th>\n",
       "      <th>intercept</th>\n",
       "      <th>Board Name</th>\n",
       "      <th>School Number</th>\n",
       "      <th>School Name</th>\n",
       "      <th>School Level</th>\n",
       "      <th>School Type</th>\n",
       "      <th>School Language</th>\n",
       "      <th>Enrolment</th>\n",
       "      <th>school_id</th>\n",
       "    </tr>\n",
       "  </thead>\n",
       "  <tbody>\n",
       "    <tr>\n",
       "      <th>0</th>\n",
       "      <td>2</td>\n",
       "      <td>1.0</td>\n",
       "      <td>Algoma DSB</td>\n",
       "      <td>54542.0</td>\n",
       "      <td>Blind River PS</td>\n",
       "      <td>Elementary</td>\n",
       "      <td>Public</td>\n",
       "      <td>English</td>\n",
       "      <td>175</td>\n",
       "      <td>54542</td>\n",
       "    </tr>\n",
       "    <tr>\n",
       "      <th>1</th>\n",
       "      <td>3</td>\n",
       "      <td>1.0</td>\n",
       "      <td>Algoma DSB</td>\n",
       "      <td>891347.0</td>\n",
       "      <td>Central Algoma SS</td>\n",
       "      <td>Secondary</td>\n",
       "      <td>Public</td>\n",
       "      <td>English</td>\n",
       "      <td>340</td>\n",
       "      <td>891347</td>\n",
       "    </tr>\n",
       "  </tbody>\n",
       "</table>\n",
       "</div>"
      ],
      "text/plain": [
       "   Highest_Covid_Cases_In_One_Day  intercept  Board Name  School Number  \\\n",
       "0                               2        1.0  Algoma DSB        54542.0   \n",
       "1                               3        1.0  Algoma DSB       891347.0   \n",
       "\n",
       "         School Name School Level School Type School Language  Enrolment  \\\n",
       "0     Blind River PS   Elementary      Public         English        175   \n",
       "1  Central Algoma SS    Secondary      Public         English        340   \n",
       "\n",
       "   school_id  \n",
       "0      54542  \n",
       "1     891347  "
      ]
     },
     "execution_count": 111,
     "metadata": {},
     "output_type": "execute_result"
    }
   ],
   "source": [
    "# Checking to see if the Re-ordering worked\n",
    "MergedDataReordered.head(2)"
   ]
  },
  {
   "cell_type": "code",
   "execution_count": 133,
   "id": "07e517cf",
   "metadata": {},
   "outputs": [],
   "source": [
    "# Creating my variables by index location of columns\n",
    "dependent_vars = MergedDataReordered.iloc[:, 0]\n",
    "independent_vars = MergedDataReordered.iloc[:, 1:]"
   ]
  },
  {
   "cell_type": "code",
   "execution_count": 134,
   "id": "48aaa1ec",
   "metadata": {},
   "outputs": [
    {
     "data": {
      "text/plain": [
       "0        2\n",
       "1        3\n",
       "2        1\n",
       "3        1\n",
       "4        1\n",
       "        ..\n",
       "3161     1\n",
       "3162    27\n",
       "3163     4\n",
       "3164     3\n",
       "3165     1\n",
       "Name: Highest_Covid_Cases_In_One_Day, Length: 3166, dtype: int64"
      ]
     },
     "execution_count": 134,
     "metadata": {},
     "output_type": "execute_result"
    }
   ],
   "source": [
    "# Checking to see if my dependent_vars only includes the column 'Highest_Covid_Cases_In_One_Day'\n",
    "dependent_vars"
   ]
  },
  {
   "cell_type": "code",
   "execution_count": 135,
   "id": "510dd92b",
   "metadata": {},
   "outputs": [
    {
     "data": {
      "text/html": [
       "<div>\n",
       "<style scoped>\n",
       "    .dataframe tbody tr th:only-of-type {\n",
       "        vertical-align: middle;\n",
       "    }\n",
       "\n",
       "    .dataframe tbody tr th {\n",
       "        vertical-align: top;\n",
       "    }\n",
       "\n",
       "    .dataframe thead th {\n",
       "        text-align: right;\n",
       "    }\n",
       "</style>\n",
       "<table border=\"1\" class=\"dataframe\">\n",
       "  <thead>\n",
       "    <tr style=\"text-align: right;\">\n",
       "      <th></th>\n",
       "      <th>intercept</th>\n",
       "      <th>Board Name</th>\n",
       "      <th>School Number</th>\n",
       "      <th>School Name</th>\n",
       "      <th>School Level</th>\n",
       "      <th>School Type</th>\n",
       "      <th>School Language</th>\n",
       "      <th>Enrolment</th>\n",
       "      <th>school_id</th>\n",
       "    </tr>\n",
       "  </thead>\n",
       "  <tbody>\n",
       "    <tr>\n",
       "      <th>0</th>\n",
       "      <td>1.0</td>\n",
       "      <td>Algoma DSB</td>\n",
       "      <td>54542.0</td>\n",
       "      <td>Blind River PS</td>\n",
       "      <td>Elementary</td>\n",
       "      <td>Public</td>\n",
       "      <td>English</td>\n",
       "      <td>175</td>\n",
       "      <td>54542</td>\n",
       "    </tr>\n",
       "    <tr>\n",
       "      <th>1</th>\n",
       "      <td>1.0</td>\n",
       "      <td>Algoma DSB</td>\n",
       "      <td>891347.0</td>\n",
       "      <td>Central Algoma SS</td>\n",
       "      <td>Secondary</td>\n",
       "      <td>Public</td>\n",
       "      <td>English</td>\n",
       "      <td>340</td>\n",
       "      <td>891347</td>\n",
       "    </tr>\n",
       "    <tr>\n",
       "      <th>2</th>\n",
       "      <td>1.0</td>\n",
       "      <td>Algoma DSB</td>\n",
       "      <td>202614.0</td>\n",
       "      <td>Francis H Clergue PS</td>\n",
       "      <td>Elementary</td>\n",
       "      <td>Public</td>\n",
       "      <td>English</td>\n",
       "      <td>550</td>\n",
       "      <td>202614</td>\n",
       "    </tr>\n",
       "    <tr>\n",
       "      <th>3</th>\n",
       "      <td>1.0</td>\n",
       "      <td>Algoma DSB</td>\n",
       "      <td>920533.0</td>\n",
       "      <td>Korah C &amp; VS</td>\n",
       "      <td>Secondary</td>\n",
       "      <td>Public</td>\n",
       "      <td>English</td>\n",
       "      <td>865</td>\n",
       "      <td>920533</td>\n",
       "    </tr>\n",
       "    <tr>\n",
       "      <th>4</th>\n",
       "      <td>1.0</td>\n",
       "      <td>Algoma DSB</td>\n",
       "      <td>468339.0</td>\n",
       "      <td>R M Moore PS</td>\n",
       "      <td>Elementary</td>\n",
       "      <td>Public</td>\n",
       "      <td>English</td>\n",
       "      <td>270</td>\n",
       "      <td>468339</td>\n",
       "    </tr>\n",
       "    <tr>\n",
       "      <th>...</th>\n",
       "      <td>...</td>\n",
       "      <td>...</td>\n",
       "      <td>...</td>\n",
       "      <td>...</td>\n",
       "      <td>...</td>\n",
       "      <td>...</td>\n",
       "      <td>...</td>\n",
       "      <td>...</td>\n",
       "      <td>...</td>\n",
       "    </tr>\n",
       "    <tr>\n",
       "      <th>3161</th>\n",
       "      <td>1.0</td>\n",
       "      <td>York Region DSB</td>\n",
       "      <td>549380.0</td>\n",
       "      <td>Wismer PS</td>\n",
       "      <td>Elementary</td>\n",
       "      <td>Public</td>\n",
       "      <td>English</td>\n",
       "      <td>665</td>\n",
       "      <td>549380</td>\n",
       "    </tr>\n",
       "    <tr>\n",
       "      <th>3162</th>\n",
       "      <td>1.0</td>\n",
       "      <td>York Region DSB</td>\n",
       "      <td>954292.0</td>\n",
       "      <td>Woodbridge College</td>\n",
       "      <td>Secondary</td>\n",
       "      <td>Public</td>\n",
       "      <td>English</td>\n",
       "      <td>515</td>\n",
       "      <td>954292</td>\n",
       "    </tr>\n",
       "    <tr>\n",
       "      <th>3163</th>\n",
       "      <td>1.0</td>\n",
       "      <td>York Region DSB</td>\n",
       "      <td>617318.0</td>\n",
       "      <td>Woodbridge PS</td>\n",
       "      <td>Elementary</td>\n",
       "      <td>Public</td>\n",
       "      <td>English</td>\n",
       "      <td>490</td>\n",
       "      <td>617318</td>\n",
       "    </tr>\n",
       "    <tr>\n",
       "      <th>3164</th>\n",
       "      <td>1.0</td>\n",
       "      <td>York Region DSB</td>\n",
       "      <td>618896.0</td>\n",
       "      <td>Woodland PS</td>\n",
       "      <td>Elementary</td>\n",
       "      <td>Public</td>\n",
       "      <td>English</td>\n",
       "      <td>260</td>\n",
       "      <td>618896</td>\n",
       "    </tr>\n",
       "    <tr>\n",
       "      <th>3165</th>\n",
       "      <td>1.0</td>\n",
       "      <td>York Region DSB</td>\n",
       "      <td>624101.0</td>\n",
       "      <td>Yorkhill E S</td>\n",
       "      <td>Elementary</td>\n",
       "      <td>Public</td>\n",
       "      <td>English</td>\n",
       "      <td>405</td>\n",
       "      <td>624101</td>\n",
       "    </tr>\n",
       "  </tbody>\n",
       "</table>\n",
       "<p>3166 rows × 9 columns</p>\n",
       "</div>"
      ],
      "text/plain": [
       "      intercept       Board Name  School Number           School Name  \\\n",
       "0           1.0       Algoma DSB        54542.0        Blind River PS   \n",
       "1           1.0       Algoma DSB       891347.0     Central Algoma SS   \n",
       "2           1.0       Algoma DSB       202614.0  Francis H Clergue PS   \n",
       "3           1.0       Algoma DSB       920533.0          Korah C & VS   \n",
       "4           1.0       Algoma DSB       468339.0          R M Moore PS   \n",
       "...         ...              ...            ...                   ...   \n",
       "3161        1.0  York Region DSB       549380.0             Wismer PS   \n",
       "3162        1.0  York Region DSB       954292.0    Woodbridge College   \n",
       "3163        1.0  York Region DSB       617318.0         Woodbridge PS   \n",
       "3164        1.0  York Region DSB       618896.0           Woodland PS   \n",
       "3165        1.0  York Region DSB       624101.0          Yorkhill E S   \n",
       "\n",
       "     School Level School Type School Language  Enrolment  school_id  \n",
       "0      Elementary      Public         English        175      54542  \n",
       "1       Secondary      Public         English        340     891347  \n",
       "2      Elementary      Public         English        550     202614  \n",
       "3       Secondary      Public         English        865     920533  \n",
       "4      Elementary      Public         English        270     468339  \n",
       "...           ...         ...             ...        ...        ...  \n",
       "3161   Elementary      Public         English        665     549380  \n",
       "3162    Secondary      Public         English        515     954292  \n",
       "3163   Elementary      Public         English        490     617318  \n",
       "3164   Elementary      Public         English        260     618896  \n",
       "3165   Elementary      Public         English        405     624101  \n",
       "\n",
       "[3166 rows x 9 columns]"
      ]
     },
     "execution_count": 135,
     "metadata": {},
     "output_type": "execute_result"
    }
   ],
   "source": [
    "# Checking to see if my independent_vars only includes the rest of the columns\n",
    "independent_vars"
   ]
  },
  {
   "cell_type": "code",
   "execution_count": 116,
   "id": "d998abbf",
   "metadata": {},
   "outputs": [],
   "source": [
    "# One hot encoding the 'School Level' column so that it appears as digits instead of categories\n",
    "# I am doing this because Regression Modelling only works with numerics\n",
    "School_Level_encoded = pd.get_dummies(independent_vars['School Level'])"
   ]
  },
  {
   "cell_type": "code",
   "execution_count": 117,
   "id": "3cf33f37",
   "metadata": {},
   "outputs": [
    {
     "data": {
      "text/html": [
       "<div>\n",
       "<style scoped>\n",
       "    .dataframe tbody tr th:only-of-type {\n",
       "        vertical-align: middle;\n",
       "    }\n",
       "\n",
       "    .dataframe tbody tr th {\n",
       "        vertical-align: top;\n",
       "    }\n",
       "\n",
       "    .dataframe thead th {\n",
       "        text-align: right;\n",
       "    }\n",
       "</style>\n",
       "<table border=\"1\" class=\"dataframe\">\n",
       "  <thead>\n",
       "    <tr style=\"text-align: right;\">\n",
       "      <th></th>\n",
       "      <th>Elementary</th>\n",
       "      <th>Secondary</th>\n",
       "    </tr>\n",
       "  </thead>\n",
       "  <tbody>\n",
       "    <tr>\n",
       "      <th>0</th>\n",
       "      <td>1</td>\n",
       "      <td>0</td>\n",
       "    </tr>\n",
       "    <tr>\n",
       "      <th>1</th>\n",
       "      <td>0</td>\n",
       "      <td>1</td>\n",
       "    </tr>\n",
       "    <tr>\n",
       "      <th>2</th>\n",
       "      <td>1</td>\n",
       "      <td>0</td>\n",
       "    </tr>\n",
       "    <tr>\n",
       "      <th>3</th>\n",
       "      <td>0</td>\n",
       "      <td>1</td>\n",
       "    </tr>\n",
       "    <tr>\n",
       "      <th>4</th>\n",
       "      <td>1</td>\n",
       "      <td>0</td>\n",
       "    </tr>\n",
       "    <tr>\n",
       "      <th>...</th>\n",
       "      <td>...</td>\n",
       "      <td>...</td>\n",
       "    </tr>\n",
       "    <tr>\n",
       "      <th>3161</th>\n",
       "      <td>1</td>\n",
       "      <td>0</td>\n",
       "    </tr>\n",
       "    <tr>\n",
       "      <th>3162</th>\n",
       "      <td>0</td>\n",
       "      <td>1</td>\n",
       "    </tr>\n",
       "    <tr>\n",
       "      <th>3163</th>\n",
       "      <td>1</td>\n",
       "      <td>0</td>\n",
       "    </tr>\n",
       "    <tr>\n",
       "      <th>3164</th>\n",
       "      <td>1</td>\n",
       "      <td>0</td>\n",
       "    </tr>\n",
       "    <tr>\n",
       "      <th>3165</th>\n",
       "      <td>1</td>\n",
       "      <td>0</td>\n",
       "    </tr>\n",
       "  </tbody>\n",
       "</table>\n",
       "<p>3166 rows × 2 columns</p>\n",
       "</div>"
      ],
      "text/plain": [
       "      Elementary  Secondary\n",
       "0              1          0\n",
       "1              0          1\n",
       "2              1          0\n",
       "3              0          1\n",
       "4              1          0\n",
       "...          ...        ...\n",
       "3161           1          0\n",
       "3162           0          1\n",
       "3163           1          0\n",
       "3164           1          0\n",
       "3165           1          0\n",
       "\n",
       "[3166 rows x 2 columns]"
      ]
     },
     "execution_count": 117,
     "metadata": {},
     "output_type": "execute_result"
    }
   ],
   "source": [
    "# Checking to see if the encoding worked\n",
    "School_Level_encoded"
   ]
  },
  {
   "cell_type": "code",
   "execution_count": 118,
   "id": "4bb941b8",
   "metadata": {},
   "outputs": [],
   "source": [
    "# One hot encoding the 'School Type' column so that it appears as digits instead of categories\n",
    "School_Type_encoded = pd.get_dummies(independent_vars['School Type'])"
   ]
  },
  {
   "cell_type": "code",
   "execution_count": 119,
   "id": "87aa19d6",
   "metadata": {},
   "outputs": [
    {
     "data": {
      "text/html": [
       "<div>\n",
       "<style scoped>\n",
       "    .dataframe tbody tr th:only-of-type {\n",
       "        vertical-align: middle;\n",
       "    }\n",
       "\n",
       "    .dataframe tbody tr th {\n",
       "        vertical-align: top;\n",
       "    }\n",
       "\n",
       "    .dataframe thead th {\n",
       "        text-align: right;\n",
       "    }\n",
       "</style>\n",
       "<table border=\"1\" class=\"dataframe\">\n",
       "  <thead>\n",
       "    <tr style=\"text-align: right;\">\n",
       "      <th></th>\n",
       "      <th>Catholic</th>\n",
       "      <th>Public</th>\n",
       "    </tr>\n",
       "  </thead>\n",
       "  <tbody>\n",
       "    <tr>\n",
       "      <th>0</th>\n",
       "      <td>0</td>\n",
       "      <td>1</td>\n",
       "    </tr>\n",
       "    <tr>\n",
       "      <th>1</th>\n",
       "      <td>0</td>\n",
       "      <td>1</td>\n",
       "    </tr>\n",
       "    <tr>\n",
       "      <th>2</th>\n",
       "      <td>0</td>\n",
       "      <td>1</td>\n",
       "    </tr>\n",
       "    <tr>\n",
       "      <th>3</th>\n",
       "      <td>0</td>\n",
       "      <td>1</td>\n",
       "    </tr>\n",
       "    <tr>\n",
       "      <th>4</th>\n",
       "      <td>0</td>\n",
       "      <td>1</td>\n",
       "    </tr>\n",
       "    <tr>\n",
       "      <th>...</th>\n",
       "      <td>...</td>\n",
       "      <td>...</td>\n",
       "    </tr>\n",
       "    <tr>\n",
       "      <th>3161</th>\n",
       "      <td>0</td>\n",
       "      <td>1</td>\n",
       "    </tr>\n",
       "    <tr>\n",
       "      <th>3162</th>\n",
       "      <td>0</td>\n",
       "      <td>1</td>\n",
       "    </tr>\n",
       "    <tr>\n",
       "      <th>3163</th>\n",
       "      <td>0</td>\n",
       "      <td>1</td>\n",
       "    </tr>\n",
       "    <tr>\n",
       "      <th>3164</th>\n",
       "      <td>0</td>\n",
       "      <td>1</td>\n",
       "    </tr>\n",
       "    <tr>\n",
       "      <th>3165</th>\n",
       "      <td>0</td>\n",
       "      <td>1</td>\n",
       "    </tr>\n",
       "  </tbody>\n",
       "</table>\n",
       "<p>3166 rows × 2 columns</p>\n",
       "</div>"
      ],
      "text/plain": [
       "      Catholic  Public\n",
       "0            0       1\n",
       "1            0       1\n",
       "2            0       1\n",
       "3            0       1\n",
       "4            0       1\n",
       "...        ...     ...\n",
       "3161         0       1\n",
       "3162         0       1\n",
       "3163         0       1\n",
       "3164         0       1\n",
       "3165         0       1\n",
       "\n",
       "[3166 rows x 2 columns]"
      ]
     },
     "execution_count": 119,
     "metadata": {},
     "output_type": "execute_result"
    }
   ],
   "source": [
    "# Checking to see if the encoding worked\n",
    "School_Type_encoded"
   ]
  },
  {
   "cell_type": "code",
   "execution_count": 120,
   "id": "8373ae03",
   "metadata": {},
   "outputs": [],
   "source": [
    "# One hot encoding the 'School Language' column so that it appears as digits instead of categories\n",
    "School_Language_encoded = pd.get_dummies(independent_vars['School Language'])"
   ]
  },
  {
   "cell_type": "code",
   "execution_count": 121,
   "id": "d11a6084",
   "metadata": {},
   "outputs": [
    {
     "data": {
      "text/html": [
       "<div>\n",
       "<style scoped>\n",
       "    .dataframe tbody tr th:only-of-type {\n",
       "        vertical-align: middle;\n",
       "    }\n",
       "\n",
       "    .dataframe tbody tr th {\n",
       "        vertical-align: top;\n",
       "    }\n",
       "\n",
       "    .dataframe thead th {\n",
       "        text-align: right;\n",
       "    }\n",
       "</style>\n",
       "<table border=\"1\" class=\"dataframe\">\n",
       "  <thead>\n",
       "    <tr style=\"text-align: right;\">\n",
       "      <th></th>\n",
       "      <th>English</th>\n",
       "      <th>French</th>\n",
       "    </tr>\n",
       "  </thead>\n",
       "  <tbody>\n",
       "    <tr>\n",
       "      <th>0</th>\n",
       "      <td>1</td>\n",
       "      <td>0</td>\n",
       "    </tr>\n",
       "    <tr>\n",
       "      <th>1</th>\n",
       "      <td>1</td>\n",
       "      <td>0</td>\n",
       "    </tr>\n",
       "    <tr>\n",
       "      <th>2</th>\n",
       "      <td>1</td>\n",
       "      <td>0</td>\n",
       "    </tr>\n",
       "    <tr>\n",
       "      <th>3</th>\n",
       "      <td>1</td>\n",
       "      <td>0</td>\n",
       "    </tr>\n",
       "    <tr>\n",
       "      <th>4</th>\n",
       "      <td>1</td>\n",
       "      <td>0</td>\n",
       "    </tr>\n",
       "    <tr>\n",
       "      <th>...</th>\n",
       "      <td>...</td>\n",
       "      <td>...</td>\n",
       "    </tr>\n",
       "    <tr>\n",
       "      <th>3161</th>\n",
       "      <td>1</td>\n",
       "      <td>0</td>\n",
       "    </tr>\n",
       "    <tr>\n",
       "      <th>3162</th>\n",
       "      <td>1</td>\n",
       "      <td>0</td>\n",
       "    </tr>\n",
       "    <tr>\n",
       "      <th>3163</th>\n",
       "      <td>1</td>\n",
       "      <td>0</td>\n",
       "    </tr>\n",
       "    <tr>\n",
       "      <th>3164</th>\n",
       "      <td>1</td>\n",
       "      <td>0</td>\n",
       "    </tr>\n",
       "    <tr>\n",
       "      <th>3165</th>\n",
       "      <td>1</td>\n",
       "      <td>0</td>\n",
       "    </tr>\n",
       "  </tbody>\n",
       "</table>\n",
       "<p>3166 rows × 2 columns</p>\n",
       "</div>"
      ],
      "text/plain": [
       "      English  French\n",
       "0           1       0\n",
       "1           1       0\n",
       "2           1       0\n",
       "3           1       0\n",
       "4           1       0\n",
       "...       ...     ...\n",
       "3161        1       0\n",
       "3162        1       0\n",
       "3163        1       0\n",
       "3164        1       0\n",
       "3165        1       0\n",
       "\n",
       "[3166 rows x 2 columns]"
      ]
     },
     "execution_count": 121,
     "metadata": {},
     "output_type": "execute_result"
    }
   ],
   "source": [
    "# Checking to see if the encoding worked\n",
    "School_Language_encoded"
   ]
  },
  {
   "cell_type": "code",
   "execution_count": 136,
   "id": "e95af84e",
   "metadata": {},
   "outputs": [],
   "source": [
    "# concatenating School_Level_encoded to independent_vars\n",
    "independent_vars = pd.concat([independent_vars, School_Level_encoded], axis=1)"
   ]
  },
  {
   "cell_type": "code",
   "execution_count": 137,
   "id": "d3ba51aa",
   "metadata": {},
   "outputs": [],
   "source": [
    "# concatenating School_Type_encoded to independent_vars\n",
    "independent_vars = pd.concat([independent_vars, School_Type_encoded], axis=1)"
   ]
  },
  {
   "cell_type": "code",
   "execution_count": 138,
   "id": "a8c2ecb6",
   "metadata": {},
   "outputs": [],
   "source": [
    "# concatenating School_Language_encoded to independent_vars\n",
    "independent_vars = pd.concat([independent_vars, School_Language_encoded], axis=1)"
   ]
  },
  {
   "cell_type": "code",
   "execution_count": 139,
   "id": "8d19520c",
   "metadata": {},
   "outputs": [
    {
     "data": {
      "text/html": [
       "<div>\n",
       "<style scoped>\n",
       "    .dataframe tbody tr th:only-of-type {\n",
       "        vertical-align: middle;\n",
       "    }\n",
       "\n",
       "    .dataframe tbody tr th {\n",
       "        vertical-align: top;\n",
       "    }\n",
       "\n",
       "    .dataframe thead th {\n",
       "        text-align: right;\n",
       "    }\n",
       "</style>\n",
       "<table border=\"1\" class=\"dataframe\">\n",
       "  <thead>\n",
       "    <tr style=\"text-align: right;\">\n",
       "      <th></th>\n",
       "      <th>intercept</th>\n",
       "      <th>Board Name</th>\n",
       "      <th>School Number</th>\n",
       "      <th>School Name</th>\n",
       "      <th>School Level</th>\n",
       "      <th>School Type</th>\n",
       "      <th>School Language</th>\n",
       "      <th>Enrolment</th>\n",
       "      <th>school_id</th>\n",
       "      <th>Elementary</th>\n",
       "      <th>Secondary</th>\n",
       "      <th>Catholic</th>\n",
       "      <th>Public</th>\n",
       "      <th>English</th>\n",
       "      <th>French</th>\n",
       "    </tr>\n",
       "  </thead>\n",
       "  <tbody>\n",
       "    <tr>\n",
       "      <th>0</th>\n",
       "      <td>1.0</td>\n",
       "      <td>Algoma DSB</td>\n",
       "      <td>54542.0</td>\n",
       "      <td>Blind River PS</td>\n",
       "      <td>Elementary</td>\n",
       "      <td>Public</td>\n",
       "      <td>English</td>\n",
       "      <td>175</td>\n",
       "      <td>54542</td>\n",
       "      <td>1</td>\n",
       "      <td>0</td>\n",
       "      <td>0</td>\n",
       "      <td>1</td>\n",
       "      <td>1</td>\n",
       "      <td>0</td>\n",
       "    </tr>\n",
       "    <tr>\n",
       "      <th>1</th>\n",
       "      <td>1.0</td>\n",
       "      <td>Algoma DSB</td>\n",
       "      <td>891347.0</td>\n",
       "      <td>Central Algoma SS</td>\n",
       "      <td>Secondary</td>\n",
       "      <td>Public</td>\n",
       "      <td>English</td>\n",
       "      <td>340</td>\n",
       "      <td>891347</td>\n",
       "      <td>0</td>\n",
       "      <td>1</td>\n",
       "      <td>0</td>\n",
       "      <td>1</td>\n",
       "      <td>1</td>\n",
       "      <td>0</td>\n",
       "    </tr>\n",
       "  </tbody>\n",
       "</table>\n",
       "</div>"
      ],
      "text/plain": [
       "   intercept  Board Name  School Number        School Name School Level  \\\n",
       "0        1.0  Algoma DSB        54542.0     Blind River PS   Elementary   \n",
       "1        1.0  Algoma DSB       891347.0  Central Algoma SS    Secondary   \n",
       "\n",
       "  School Type School Language  Enrolment  school_id  Elementary  Secondary  \\\n",
       "0      Public         English        175      54542           1          0   \n",
       "1      Public         English        340     891347           0          1   \n",
       "\n",
       "   Catholic  Public  English  French  \n",
       "0         0       1        1       0  \n",
       "1         0       1        1       0  "
      ]
     },
     "execution_count": 139,
     "metadata": {},
     "output_type": "execute_result"
    }
   ],
   "source": [
    "# Checking to see if it concatenating 3 encoding lists\n",
    "independent_vars.head(2) "
   ]
  },
  {
   "cell_type": "code",
   "execution_count": 140,
   "id": "f71a30e1",
   "metadata": {},
   "outputs": [],
   "source": [
    "# dropping unnecessary columns for my regression model\n",
    "independent_vars.drop(columns=['Board Name', 'School Number', 'School Name', 'School Level', 'School Type', 'School Language', 'school_id'], inplace=True)"
   ]
  },
  {
   "cell_type": "code",
   "execution_count": 141,
   "id": "e54a446f",
   "metadata": {},
   "outputs": [
    {
     "data": {
      "text/html": [
       "<div>\n",
       "<style scoped>\n",
       "    .dataframe tbody tr th:only-of-type {\n",
       "        vertical-align: middle;\n",
       "    }\n",
       "\n",
       "    .dataframe tbody tr th {\n",
       "        vertical-align: top;\n",
       "    }\n",
       "\n",
       "    .dataframe thead th {\n",
       "        text-align: right;\n",
       "    }\n",
       "</style>\n",
       "<table border=\"1\" class=\"dataframe\">\n",
       "  <thead>\n",
       "    <tr style=\"text-align: right;\">\n",
       "      <th></th>\n",
       "      <th>intercept</th>\n",
       "      <th>Enrolment</th>\n",
       "      <th>Elementary</th>\n",
       "      <th>Secondary</th>\n",
       "      <th>Catholic</th>\n",
       "      <th>Public</th>\n",
       "      <th>English</th>\n",
       "      <th>French</th>\n",
       "    </tr>\n",
       "  </thead>\n",
       "  <tbody>\n",
       "    <tr>\n",
       "      <th>0</th>\n",
       "      <td>1.0</td>\n",
       "      <td>175</td>\n",
       "      <td>1</td>\n",
       "      <td>0</td>\n",
       "      <td>0</td>\n",
       "      <td>1</td>\n",
       "      <td>1</td>\n",
       "      <td>0</td>\n",
       "    </tr>\n",
       "    <tr>\n",
       "      <th>1</th>\n",
       "      <td>1.0</td>\n",
       "      <td>340</td>\n",
       "      <td>0</td>\n",
       "      <td>1</td>\n",
       "      <td>0</td>\n",
       "      <td>1</td>\n",
       "      <td>1</td>\n",
       "      <td>0</td>\n",
       "    </tr>\n",
       "  </tbody>\n",
       "</table>\n",
       "</div>"
      ],
      "text/plain": [
       "   intercept  Enrolment  Elementary  Secondary  Catholic  Public  English  \\\n",
       "0        1.0        175           1          0         0       1        1   \n",
       "1        1.0        340           0          1         0       1        1   \n",
       "\n",
       "   French  \n",
       "0       0  \n",
       "1       0  "
      ]
     },
     "execution_count": 141,
     "metadata": {},
     "output_type": "execute_result"
    }
   ],
   "source": [
    "# Checking to see if it dropped the unnecessary columns\n",
    "independent_vars.head(2) "
   ]
  },
  {
   "cell_type": "code",
   "execution_count": 142,
   "id": "71b76898",
   "metadata": {},
   "outputs": [
    {
     "name": "stdout",
     "output_type": "stream",
     "text": [
      "                                  OLS Regression Results                                  \n",
      "==========================================================================================\n",
      "Dep. Variable:     Highest_Covid_Cases_In_One_Day   R-squared:                       0.059\n",
      "Model:                                        OLS   Adj. R-squared:                  0.058\n",
      "Method:                             Least Squares   F-statistic:                     49.85\n",
      "Date:                            Tue, 30 Nov 2021   Prob (F-statistic):           9.72e-41\n",
      "Time:                                    00:03:25   Log-Likelihood:                -7359.4\n",
      "No. Observations:                            3166   AIC:                         1.473e+04\n",
      "Df Residuals:                                3161   BIC:                         1.476e+04\n",
      "Df Model:                                       4                                         \n",
      "Covariance Type:                        nonrobust                                         \n",
      "==============================================================================\n",
      "                 coef    std err          t      P>|t|      [0.025      0.975]\n",
      "------------------------------------------------------------------------------\n",
      "intercept      0.7643      0.052     14.703      0.000       0.662       0.866\n",
      "Enrolment      0.0019      0.000     11.539      0.000       0.002       0.002\n",
      "Elementary     0.4079      0.055      7.373      0.000       0.299       0.516\n",
      "Secondary      0.3564      0.086      4.128      0.000       0.187       0.526\n",
      "Catholic       0.5042      0.054      9.399      0.000       0.399       0.609\n",
      "Public         0.2600      0.054      4.777      0.000       0.153       0.367\n",
      "English        0.1906      0.081      2.365      0.018       0.033       0.349\n",
      "French         0.5736      0.100      5.765      0.000       0.379       0.769\n",
      "==============================================================================\n",
      "Omnibus:                     3479.684   Durbin-Watson:                   1.897\n",
      "Prob(Omnibus):                  0.000   Jarque-Bera (JB):           492367.353\n",
      "Skew:                           5.334   Prob(JB):                         0.00\n",
      "Kurtosis:                      63.155   Cond. No.                     1.48e+19\n",
      "==============================================================================\n",
      "\n",
      "Notes:\n",
      "[1] Standard Errors assume that the covariance matrix of the errors is correctly specified.\n",
      "[2] The smallest eigenvalue is 5.33e-30. This might indicate that there are\n",
      "strong multicollinearity problems or that the design matrix is singular.\n"
     ]
    }
   ],
   "source": [
    "lin_reg = sm.OLS(dependent_vars, independent_vars) #creating the model\n",
    "reg_results = lin_reg.fit() # running the model\n",
    "print(reg_results.summary()) # results of the model"
   ]
  },
  {
   "cell_type": "markdown",
   "id": "8657303e",
   "metadata": {},
   "source": [
    "The R-squared is 0.059.  Adj. R-squared is 0.058.  It is insignificant because it is very far from 1.  No need to even look at the p values and coefficients.\n",
    "\n",
    "What if I drop all the independent variables except for 'Enrolment'?  I know this is over-fitting but let's see what happens"
   ]
  },
  {
   "cell_type": "code",
   "execution_count": 145,
   "id": "b4d65900",
   "metadata": {},
   "outputs": [
    {
     "name": "stdout",
     "output_type": "stream",
     "text": [
      "                                  OLS Regression Results                                  \n",
      "==========================================================================================\n",
      "Dep. Variable:     Highest_Covid_Cases_In_One_Day   R-squared:                       0.055\n",
      "Model:                                        OLS   Adj. R-squared:                  0.055\n",
      "Method:                             Least Squares   F-statistic:                     184.7\n",
      "Date:                            Tue, 30 Nov 2021   Prob (F-statistic):           6.37e-41\n",
      "Time:                                    00:12:36   Log-Likelihood:                -7366.5\n",
      "No. Observations:                            3166   AIC:                         1.474e+04\n",
      "Df Residuals:                                3164   BIC:                         1.475e+04\n",
      "Df Model:                                       1                                         \n",
      "Covariance Type:                        nonrobust                                         \n",
      "==============================================================================\n",
      "                 coef    std err          t      P>|t|      [0.025      0.975]\n",
      "------------------------------------------------------------------------------\n",
      "intercept      1.7797      0.082     21.813      0.000       1.620       1.940\n",
      "Enrolment      0.0018      0.000     13.590      0.000       0.002       0.002\n",
      "==============================================================================\n",
      "Omnibus:                     3459.667   Durbin-Watson:                   1.890\n",
      "Prob(Omnibus):                  0.000   Jarque-Bera (JB):           475273.933\n",
      "Skew:                           5.290   Prob(JB):                         0.00\n",
      "Kurtosis:                      62.084   Cond. No.                     1.12e+03\n",
      "==============================================================================\n",
      "\n",
      "Notes:\n",
      "[1] Standard Errors assume that the covariance matrix of the errors is correctly specified.\n",
      "[2] The condition number is large, 1.12e+03. This might indicate that there are\n",
      "strong multicollinearity or other numerical problems.\n"
     ]
    }
   ],
   "source": [
    "# dropping all the columns except 'enrolment' from independent vars\n",
    "independent_vars2 = independent_vars.drop(columns=['Elementary', 'Secondary', 'Catholic', 'Public', 'English', 'French'])\n",
    "#creating the model\n",
    "lin_reg2 = sm.OLS(dependent_vars, independent_vars2)\n",
    "# running the model\n",
    "regression_results2 = lin_reg2.fit()\n",
    "# results of the model\n",
    "print(regression_results2.summary())"
   ]
  },
  {
   "cell_type": "markdown",
   "id": "e735800d",
   "metadata": {},
   "source": [
    "The R-squared and Adj. R-squared are even worse with only 'enrolment' as the independent variable.  This model does not work."
   ]
  },
  {
   "cell_type": "markdown",
   "id": "9dc2367d",
   "metadata": {},
   "source": [
    "### Recommendation and Notes\n",
    "This dataset is from a time before most of the Ontario population was vaccinated against Covid.  Vaccines aside, we should take a multi-faceted approach to battling the spread of this disease.\n",
    "\n",
    "Our analysis shows that just because a student or staff member is in a school with high enrolment doesn’t necessarily mean they have a higher chance of getting Covid-19.  Other factors come into play like masking, hand washing, ventilation systems, types of households students and staff belong to and other social behaviour etc.  \n",
    "\n",
    "I do not recommend shrinking class sizes or school sizes as the one and only solution to protecting students and school staff against covid.  We should use a multi-faceted approach. \n",
    "\n",
    "Last but not least, our method of using the Max Covid case counts in one day per school might not be the best measure of comparison.  The study may have been different if we looked at total cases per school for the whole school year, not just each school's highest case count in one day.  It just speaks to the limitation of our dataset since cases were reported by day and it is unclear if each count was of a new infected person or the same person  with the same infection day after day.  It might be worth finding data for total cases per school and comparing it with this study."
   ]
  },
  {
   "cell_type": "code",
   "execution_count": null,
   "id": "489b00ef",
   "metadata": {},
   "outputs": [],
   "source": []
  }
 ],
 "metadata": {
  "kernelspec": {
   "display_name": "Python 3",
   "language": "python",
   "name": "python3"
  },
  "language_info": {
   "codemirror_mode": {
    "name": "ipython",
    "version": 3
   },
   "file_extension": ".py",
   "mimetype": "text/x-python",
   "name": "python",
   "nbconvert_exporter": "python",
   "pygments_lexer": "ipython3",
   "version": "3.8.8"
  },
  "varInspector": {
   "cols": {
    "lenName": 16,
    "lenType": 16,
    "lenVar": 40
   },
   "kernels_config": {
    "python": {
     "delete_cmd_postfix": "",
     "delete_cmd_prefix": "del ",
     "library": "var_list.py",
     "varRefreshCmd": "print(var_dic_list())"
    },
    "r": {
     "delete_cmd_postfix": ") ",
     "delete_cmd_prefix": "rm(",
     "library": "var_list.r",
     "varRefreshCmd": "cat(var_dic_list()) "
    }
   },
   "types_to_exclude": [
    "module",
    "function",
    "builtin_function_or_method",
    "instance",
    "_Feature"
   ],
   "window_display": false
  }
 },
 "nbformat": 4,
 "nbformat_minor": 5
}
